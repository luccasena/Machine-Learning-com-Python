{
 "cells": [
  {
   "cell_type": "markdown",
   "id": "2aeadafc",
   "metadata": {},
   "source": [
    "## Solução para a Construção do Modelo Preditivo: Academia RedFit"
   ]
  },
  {
   "cell_type": "markdown",
   "id": "e127b219",
   "metadata": {},
   "source": [
    "- Enunciado: A academia RedFit deseja conhecer melhor o perfil de seus clientes para direcionar campanhas de marketing de forma mais eficaz. O objetivo é desenvolver um modelo de Machine Learning capaz de classificar os usuários em diferentes níveis de atividade física."
   ]
  },
  {
   "cell_type": "markdown",
   "id": "34a15b48",
   "metadata": {},
   "source": [
    "- **Objetivo**: Criar um modelo capaz de classificar **o perfil dos seus clientes** para direcionar a campanhas de marketing de forma mais eficaz."
   ]
  },
  {
   "cell_type": "markdown",
   "id": "14d6fdbb",
   "metadata": {},
   "source": [
    "### 1. Importação das Bibliotecas"
   ]
  },
  {
   "cell_type": "code",
   "execution_count": 149,
   "id": "067bc1eb",
   "metadata": {},
   "outputs": [],
   "source": [
    "import pandas as pd\n",
    "import numpy as np\n",
    "\n",
    "from sklearn.compose import ColumnTransformer\n",
    "from sklearn.preprocessing import StandardScaler\n",
    "from sklearn.preprocessing import OrdinalEncoder\n",
    "from sklearn.model_selection import train_test_split\n",
    "from sklearn.pipeline import Pipeline\n",
    "from sklearn.metrics import classification_report\n",
    "from sklearn.svm import SVC\n",
    "from sklearn.linear_model import LogisticRegressionCV\n",
    "from sklearn.ensemble import RandomForestClassifier, GradientBoostingClassifier\n",
    "from sklearn.neighbors import KNeighborsClassifier\n",
    "\n",
    "from imblearn.over_sampling import SMOTE"
   ]
  },
  {
   "cell_type": "markdown",
   "id": "a768ac27",
   "metadata": {},
   "source": [
    "### 2. Importar Base de Dados"
   ]
  },
  {
   "cell_type": "code",
   "execution_count": 150,
   "id": "2e65c227",
   "metadata": {},
   "outputs": [],
   "source": [
    "df = pd.read_csv(\"data/academia_redfit.csv\")"
   ]
  },
  {
   "cell_type": "code",
   "execution_count": 137,
   "id": "59089da5",
   "metadata": {},
   "outputs": [
    {
     "data": {
      "application/vnd.microsoft.datawrangler.viewer.v0+json": {
       "columns": [
        {
         "name": "index",
         "rawType": "int64",
         "type": "integer"
        },
        {
         "name": "idade",
         "rawType": "int64",
         "type": "integer"
        },
        {
         "name": "sexo",
         "rawType": "object",
         "type": "string"
        },
        {
         "name": "frequencia_semanal_treino",
         "rawType": "float64",
         "type": "float"
        },
        {
         "name": "tipo_atividade",
         "rawType": "object",
         "type": "string"
        },
        {
         "name": "tempo_medio_exercicio",
         "rawType": "float64",
         "type": "float"
        },
        {
         "name": "minutos_totais_semana",
         "rawType": "float64",
         "type": "float"
        },
        {
         "name": "preco_plano",
         "rawType": "float64",
         "type": "float"
        },
        {
         "name": "possui_nutricionista",
         "rawType": "object",
         "type": "string"
        },
        {
         "name": "primeiro_PGC",
         "rawType": "float64",
         "type": "float"
        },
        {
         "name": "ultimo_PGC",
         "rawType": "float64",
         "type": "float"
        },
        {
         "name": "data_matricula",
         "rawType": "object",
         "type": "string"
        },
        {
         "name": "estado",
         "rawType": "object",
         "type": "string"
        }
       ],
       "ref": "1fe557d3-dd08-4b95-9fc1-77f726f02101",
       "rows": [
        [
         "0",
         "48",
         "Outro",
         "7.0",
         "Natação",
         "45.3",
         "317.1",
         "188.47",
         "Não",
         "39.5",
         "24.9",
         "2021-07-28",
         "Ativa"
        ],
        [
         "1",
         "30",
         "Outro",
         "7.0",
         "Yoga",
         "98.1",
         "686.7",
         "198.07",
         "Não",
         "25.2",
         "23.5",
         "2020-12-28",
         "Ativa"
        ],
        [
         "2",
         "35",
         "Masculino",
         "5.0",
         "Cardio",
         "33.9",
         "169.5",
         "154.9",
         "Não",
         "27.2",
         "11.4",
         "2022-02-27",
         "Ativa"
        ],
        [
         "3",
         "43",
         "Outro",
         "3.0",
         "Yoga",
         "75.6",
         "226.8",
         "250.79",
         "Sim",
         "14.4",
         "19.2",
         "2022-12-01",
         "Ativa"
        ],
        [
         "4",
         "37",
         "Masculino",
         "0.0",
         "CrossFit",
         "114.0",
         "0.0",
         "168.02",
         "Sim",
         "21.5",
         "18.1",
         "2024-01-20",
         "Sedentária"
        ],
        [
         "5",
         "57",
         "Masculino",
         "2.0",
         "Yoga",
         "95.5",
         "191.0",
         "74.06",
         "Não",
         "35.8",
         "14.4",
         "2020-04-26",
         "Ativa"
        ],
        [
         "6",
         "55",
         "Masculino",
         "7.0",
         "CrossFit",
         "95.7",
         "669.9",
         "289.13",
         "Sim",
         "16.1",
         "14.9",
         "2022-06-12",
         "Ativa"
        ],
        [
         "7",
         "21",
         "Feminino",
         "5.0",
         "Yoga",
         "117.5",
         "587.5",
         "259.55",
         "Não",
         "13.2",
         "13.5",
         "2021-09-07",
         "Ativa"
        ],
        [
         "8",
         "37",
         "Masculino",
         "7.0",
         "Yoga",
         null,
         null,
         "194.34",
         "Sim",
         "18.4",
         "21.8",
         "2025-09-02",
         "Ativa"
        ],
        [
         "9",
         "50",
         "Masculino",
         "1.0",
         "Musculação",
         "105.0",
         "105.0",
         "290.91",
         "Sim",
         "37.3",
         "31.0",
         "2020-05-06",
         "Ativa"
        ],
        [
         "10",
         "21",
         "Feminino",
         "0.0",
         "Futebol",
         "94.8",
         "0.0",
         "176.86",
         "Sim",
         "25.5",
         "21.2",
         "2025-03-10",
         "Sedentária"
        ],
        [
         "11",
         "30",
         "Outro",
         "0.0",
         "CrossFit",
         "67.7",
         "0.0",
         "147.73",
         "Sim",
         "28.6",
         "25.4",
         "2023-11-12",
         "Sedentária"
        ],
        [
         "12",
         "42",
         "Outro",
         "1.0",
         "Yoga",
         "56.6",
         "56.6",
         "170.38",
         "Não",
         "15.7",
         "29.6",
         "2021-12-31",
         "Ativa"
        ],
        [
         "13",
         "20",
         "Masculino",
         "6.0",
         "Cardio",
         "47.8",
         "286.8",
         "206.8",
         "Sim",
         "10.4",
         "22.7",
         "2022-12-25",
         "Ativa"
        ],
        [
         "14",
         "47",
         "Feminino",
         "2.0",
         "Musculação",
         "112.5",
         "225.0",
         "117.85",
         "Não",
         "29.0",
         "13.4",
         "2020-05-01",
         "Ativa"
        ],
        [
         "15",
         "24",
         "Outro",
         "4.0",
         "CrossFit",
         "80.4",
         "321.6",
         "63.51",
         "Não",
         "13.5",
         "34.1",
         "2020-10-29",
         "Ativa"
        ],
        [
         "16",
         "62",
         "Outro",
         "4.0",
         "Futebol",
         "69.1",
         "276.4",
         "143.89",
         "Sim",
         "29.8",
         "16.0",
         "2024-01-19",
         "Ativa"
        ],
        [
         "17",
         "35",
         "Feminino",
         "0.0",
         "Natação",
         "48.9",
         "0.0",
         "53.65",
         "Não",
         "12.3",
         "20.9",
         "2025-04-23",
         "Sedentária"
        ],
        [
         "18",
         "22",
         "Outro",
         "4.0",
         "Musculação",
         "94.3",
         "377.2",
         "131.0",
         "Não",
         "36.7",
         "10.8",
         "2022-06-13",
         "Ativa"
        ],
        [
         "19",
         "36",
         "Feminino",
         "4.0",
         "CrossFit",
         "101.7",
         "406.8",
         "174.82",
         "Não",
         "31.2",
         "36.4",
         "2021-06-11",
         "Ativa"
        ],
        [
         "20",
         "36",
         "Feminino",
         "3.0",
         "CrossFit",
         "99.6",
         "298.8",
         "298.37",
         "Sim",
         "22.7",
         "30.3",
         "2022-07-02",
         "Ativa"
        ],
        [
         "21",
         "57",
         "Outro",
         "5.0",
         "Natação",
         "94.7",
         "473.5",
         "225.36",
         "Não",
         "28.1",
         "11.4",
         "2024-10-13",
         "Ativa"
        ],
        [
         "22",
         "57",
         "Outro",
         "5.0",
         "CrossFit",
         "42.2",
         "211.0",
         "251.88",
         "Não",
         "22.7",
         "27.2",
         "2022-05-26",
         "Ativa"
        ],
        [
         "23",
         "52",
         "Feminino",
         "6.0",
         "Yoga",
         "89.6",
         "537.6",
         "181.9",
         "Sim",
         "11.3",
         "16.8",
         "2022-04-10",
         "Ativa"
        ],
        [
         "24",
         "31",
         "Outro",
         "2.0",
         "Futebol",
         "52.3",
         "104.6",
         "81.08",
         "Sim",
         "13.3",
         "35.5",
         "2023-05-20",
         "Ativa"
        ],
        [
         "25",
         "64",
         "Masculino",
         "1.0",
         "Yoga",
         "105.6",
         "105.6",
         "256.94",
         "Sim",
         "14.3",
         "34.1",
         "2024-10-04",
         "Ativa"
        ],
        [
         "26",
         "64",
         "Outro",
         "0.0",
         "Musculação",
         null,
         null,
         "148.59",
         "Sim",
         "19.3",
         "19.1",
         "2024-10-13",
         "Sedentária"
        ],
        [
         "27",
         "41",
         "Masculino",
         "2.0",
         "Futebol",
         "81.6",
         "163.2",
         "56.38",
         "Sim",
         "12.9",
         "30.1",
         "2024-09-09",
         "Ativa"
        ],
        [
         "28",
         "40",
         "Feminino",
         "4.0",
         "Natação",
         "82.1",
         "328.4",
         "114.78",
         "Não",
         "33.6",
         "27.6",
         "2021-05-09",
         "Ativa"
        ],
        [
         "29",
         "37",
         "Outro",
         "4.0",
         "Yoga",
         "45.1",
         "180.4",
         "78.51",
         "Sim",
         "17.3",
         "32.4",
         "2023-05-08",
         "Ativa"
        ],
        [
         "30",
         "51",
         "Masculino",
         "7.0",
         "Cardio",
         "74.5",
         "521.5",
         "223.85",
         "Sim",
         "10.2",
         "29.5",
         "2020-05-23",
         "Ativa"
        ],
        [
         "31",
         "42",
         "Feminino",
         "5.0",
         "Cardio",
         "109.8",
         "549.0",
         "136.8",
         "Não",
         "30.7",
         "13.9",
         "2022-02-04",
         "Ativa"
        ],
        [
         "32",
         "33",
         "Masculino",
         "2.0",
         "Musculação",
         "93.8",
         "187.6",
         "113.1",
         "Sim",
         "35.8",
         "12.5",
         "2023-03-11",
         "Ativa"
        ],
        [
         "33",
         "48",
         "Feminino",
         "0.0",
         "Natação",
         "75.4",
         "0.0",
         "74.83",
         "Não",
         "23.6",
         "24.5",
         "2020-09-05",
         "Sedentária"
        ],
        [
         "34",
         "20",
         "Outro",
         "4.0",
         "Yoga",
         "29.6",
         "118.4",
         "263.94",
         "Sim",
         "38.7",
         "20.1",
         "2024-02-04",
         "Ativa"
        ],
        [
         "35",
         "35",
         "Outro",
         "3.0",
         "Natação",
         "94.5",
         "283.5",
         "94.64",
         "Sim",
         "15.0",
         "23.5",
         "2024-08-24",
         "Ativa"
        ],
        [
         "36",
         "56",
         "Feminino",
         "0.0",
         "Musculação",
         "25.8",
         "0.0",
         "233.58",
         "Sim",
         "18.6",
         "12.6",
         "2020-03-26",
         "Sedentária"
        ],
        [
         "37",
         "21",
         "Outro",
         "6.0",
         "Cardio",
         "33.9",
         "203.4",
         "151.75",
         "Não",
         "39.2",
         "15.9",
         "2023-06-16",
         "Ativa"
        ],
        [
         "38",
         "53",
         "Masculino",
         "2.0",
         "Yoga",
         "98.3",
         "196.6",
         "176.74",
         "Sim",
         "37.4",
         "29.5",
         "2025-02-04",
         "Ativa"
        ],
        [
         "39",
         "34",
         "Outro",
         "4.0",
         "Yoga",
         "21.9",
         "87.6",
         "171.13",
         "Não",
         "30.7",
         "23.0",
         "2024-02-18",
         "Ativa"
        ],
        [
         "40",
         "40",
         "Outro",
         "4.0",
         "Natação",
         "36.9",
         "147.6",
         "261.56",
         "Não",
         "20.8",
         "17.4",
         "2020-01-29",
         "Ativa"
        ],
        [
         "41",
         "45",
         "Outro",
         "5.0",
         "Futebol",
         "104.3",
         "521.5",
         "138.88",
         "Sim",
         "36.0",
         "36.0",
         "2020-02-07",
         "Ativa"
        ],
        [
         "42",
         "49",
         "Outro",
         "5.0",
         "Futebol",
         null,
         null,
         "235.3",
         "Não",
         "30.4",
         "13.2",
         "2024-03-25",
         "Ativa"
        ],
        [
         "43",
         "54",
         "Feminino",
         null,
         "Cardio",
         "113.2",
         null,
         "65.29",
         "Sim",
         "16.6",
         "35.0",
         "2021-10-05",
         "Sedentária"
        ],
        [
         "44",
         "32",
         "Feminino",
         "0.0",
         "CrossFit",
         "46.9",
         "0.0",
         "273.31",
         "Não",
         "30.9",
         "10.6",
         "2020-12-16",
         "Sedentária"
        ],
        [
         "45",
         "35",
         "Outro",
         "4.0",
         "Yoga",
         "46.8",
         "187.2",
         "61.92",
         "Sim",
         "21.3",
         "17.5",
         "2022-03-08",
         "Ativa"
        ],
        [
         "46",
         "20",
         "Masculino",
         "7.0",
         "Natação",
         "58.1",
         "406.7",
         "195.57",
         "Sim",
         "10.7",
         "28.0",
         "2024-02-26",
         "Ativa"
        ],
        [
         "47",
         "35",
         "Outro",
         "5.0",
         "Yoga",
         "57.3",
         "286.5",
         "97.55",
         "Não",
         "17.2",
         "12.1",
         "2025-02-23",
         "Ativa"
        ],
        [
         "48",
         "20",
         "Outro",
         "1.0",
         "Cardio",
         "71.0",
         "71.0",
         "163.27",
         "Não",
         "27.3",
         "20.6",
         "2023-06-19",
         "Ativa"
        ],
        [
         "49",
         "33",
         "Masculino",
         "7.0",
         "Musculação",
         "118.3",
         "828.1",
         "184.03",
         "Não",
         "12.7",
         "25.9",
         "2021-11-28",
         "Ativa"
        ]
       ],
       "shape": {
        "columns": 12,
        "rows": 1000
       }
      },
      "text/html": [
       "<div>\n",
       "<style scoped>\n",
       "    .dataframe tbody tr th:only-of-type {\n",
       "        vertical-align: middle;\n",
       "    }\n",
       "\n",
       "    .dataframe tbody tr th {\n",
       "        vertical-align: top;\n",
       "    }\n",
       "\n",
       "    .dataframe thead th {\n",
       "        text-align: right;\n",
       "    }\n",
       "</style>\n",
       "<table border=\"1\" class=\"dataframe\">\n",
       "  <thead>\n",
       "    <tr style=\"text-align: right;\">\n",
       "      <th></th>\n",
       "      <th>idade</th>\n",
       "      <th>sexo</th>\n",
       "      <th>frequencia_semanal_treino</th>\n",
       "      <th>tipo_atividade</th>\n",
       "      <th>tempo_medio_exercicio</th>\n",
       "      <th>minutos_totais_semana</th>\n",
       "      <th>preco_plano</th>\n",
       "      <th>possui_nutricionista</th>\n",
       "      <th>primeiro_PGC</th>\n",
       "      <th>ultimo_PGC</th>\n",
       "      <th>data_matricula</th>\n",
       "      <th>estado</th>\n",
       "    </tr>\n",
       "  </thead>\n",
       "  <tbody>\n",
       "    <tr>\n",
       "      <th>0</th>\n",
       "      <td>48</td>\n",
       "      <td>Outro</td>\n",
       "      <td>7.0</td>\n",
       "      <td>Natação</td>\n",
       "      <td>45.3</td>\n",
       "      <td>317.1</td>\n",
       "      <td>188.47</td>\n",
       "      <td>Não</td>\n",
       "      <td>39.5</td>\n",
       "      <td>24.9</td>\n",
       "      <td>2021-07-28</td>\n",
       "      <td>Ativa</td>\n",
       "    </tr>\n",
       "    <tr>\n",
       "      <th>1</th>\n",
       "      <td>30</td>\n",
       "      <td>Outro</td>\n",
       "      <td>7.0</td>\n",
       "      <td>Yoga</td>\n",
       "      <td>98.1</td>\n",
       "      <td>686.7</td>\n",
       "      <td>198.07</td>\n",
       "      <td>Não</td>\n",
       "      <td>25.2</td>\n",
       "      <td>23.5</td>\n",
       "      <td>2020-12-28</td>\n",
       "      <td>Ativa</td>\n",
       "    </tr>\n",
       "    <tr>\n",
       "      <th>2</th>\n",
       "      <td>35</td>\n",
       "      <td>Masculino</td>\n",
       "      <td>5.0</td>\n",
       "      <td>Cardio</td>\n",
       "      <td>33.9</td>\n",
       "      <td>169.5</td>\n",
       "      <td>154.90</td>\n",
       "      <td>Não</td>\n",
       "      <td>27.2</td>\n",
       "      <td>11.4</td>\n",
       "      <td>2022-02-27</td>\n",
       "      <td>Ativa</td>\n",
       "    </tr>\n",
       "    <tr>\n",
       "      <th>3</th>\n",
       "      <td>43</td>\n",
       "      <td>Outro</td>\n",
       "      <td>3.0</td>\n",
       "      <td>Yoga</td>\n",
       "      <td>75.6</td>\n",
       "      <td>226.8</td>\n",
       "      <td>250.79</td>\n",
       "      <td>Sim</td>\n",
       "      <td>14.4</td>\n",
       "      <td>19.2</td>\n",
       "      <td>2022-12-01</td>\n",
       "      <td>Ativa</td>\n",
       "    </tr>\n",
       "    <tr>\n",
       "      <th>4</th>\n",
       "      <td>37</td>\n",
       "      <td>Masculino</td>\n",
       "      <td>0.0</td>\n",
       "      <td>CrossFit</td>\n",
       "      <td>114.0</td>\n",
       "      <td>0.0</td>\n",
       "      <td>168.02</td>\n",
       "      <td>Sim</td>\n",
       "      <td>21.5</td>\n",
       "      <td>18.1</td>\n",
       "      <td>2024-01-20</td>\n",
       "      <td>Sedentária</td>\n",
       "    </tr>\n",
       "    <tr>\n",
       "      <th>...</th>\n",
       "      <td>...</td>\n",
       "      <td>...</td>\n",
       "      <td>...</td>\n",
       "      <td>...</td>\n",
       "      <td>...</td>\n",
       "      <td>...</td>\n",
       "      <td>...</td>\n",
       "      <td>...</td>\n",
       "      <td>...</td>\n",
       "      <td>...</td>\n",
       "      <td>...</td>\n",
       "      <td>...</td>\n",
       "    </tr>\n",
       "    <tr>\n",
       "      <th>995</th>\n",
       "      <td>43</td>\n",
       "      <td>Feminino</td>\n",
       "      <td>0.0</td>\n",
       "      <td>Futebol</td>\n",
       "      <td>101.7</td>\n",
       "      <td>0.0</td>\n",
       "      <td>215.21</td>\n",
       "      <td>Não</td>\n",
       "      <td>31.1</td>\n",
       "      <td>32.4</td>\n",
       "      <td>2024-04-24</td>\n",
       "      <td>Sedentária</td>\n",
       "    </tr>\n",
       "    <tr>\n",
       "      <th>996</th>\n",
       "      <td>39</td>\n",
       "      <td>Outro</td>\n",
       "      <td>5.0</td>\n",
       "      <td>Futebol</td>\n",
       "      <td>78.0</td>\n",
       "      <td>390.0</td>\n",
       "      <td>269.34</td>\n",
       "      <td>Sim</td>\n",
       "      <td>38.8</td>\n",
       "      <td>31.8</td>\n",
       "      <td>2022-11-02</td>\n",
       "      <td>Ativa</td>\n",
       "    </tr>\n",
       "    <tr>\n",
       "      <th>997</th>\n",
       "      <td>25</td>\n",
       "      <td>Feminino</td>\n",
       "      <td>2.0</td>\n",
       "      <td>Natação</td>\n",
       "      <td>112.3</td>\n",
       "      <td>224.6</td>\n",
       "      <td>130.93</td>\n",
       "      <td>Não</td>\n",
       "      <td>23.8</td>\n",
       "      <td>28.4</td>\n",
       "      <td>2025-01-24</td>\n",
       "      <td>Ativa</td>\n",
       "    </tr>\n",
       "    <tr>\n",
       "      <th>998</th>\n",
       "      <td>24</td>\n",
       "      <td>Masculino</td>\n",
       "      <td>4.0</td>\n",
       "      <td>CrossFit</td>\n",
       "      <td>113.8</td>\n",
       "      <td>455.2</td>\n",
       "      <td>149.22</td>\n",
       "      <td>Sim</td>\n",
       "      <td>30.5</td>\n",
       "      <td>35.7</td>\n",
       "      <td>2020-12-03</td>\n",
       "      <td>Ativa</td>\n",
       "    </tr>\n",
       "    <tr>\n",
       "      <th>999</th>\n",
       "      <td>54</td>\n",
       "      <td>Masculino</td>\n",
       "      <td>7.0</td>\n",
       "      <td>Yoga</td>\n",
       "      <td>49.5</td>\n",
       "      <td>346.5</td>\n",
       "      <td>264.81</td>\n",
       "      <td>Sim</td>\n",
       "      <td>14.1</td>\n",
       "      <td>25.8</td>\n",
       "      <td>2025-09-08</td>\n",
       "      <td>Ativa</td>\n",
       "    </tr>\n",
       "  </tbody>\n",
       "</table>\n",
       "<p>1000 rows × 12 columns</p>\n",
       "</div>"
      ],
      "text/plain": [
       "     idade       sexo  frequencia_semanal_treino tipo_atividade  \\\n",
       "0       48      Outro                        7.0        Natação   \n",
       "1       30      Outro                        7.0           Yoga   \n",
       "2       35  Masculino                        5.0         Cardio   \n",
       "3       43      Outro                        3.0           Yoga   \n",
       "4       37  Masculino                        0.0       CrossFit   \n",
       "..     ...        ...                        ...            ...   \n",
       "995     43   Feminino                        0.0        Futebol   \n",
       "996     39      Outro                        5.0        Futebol   \n",
       "997     25   Feminino                        2.0        Natação   \n",
       "998     24  Masculino                        4.0       CrossFit   \n",
       "999     54  Masculino                        7.0           Yoga   \n",
       "\n",
       "     tempo_medio_exercicio  minutos_totais_semana  preco_plano  \\\n",
       "0                     45.3                  317.1       188.47   \n",
       "1                     98.1                  686.7       198.07   \n",
       "2                     33.9                  169.5       154.90   \n",
       "3                     75.6                  226.8       250.79   \n",
       "4                    114.0                    0.0       168.02   \n",
       "..                     ...                    ...          ...   \n",
       "995                  101.7                    0.0       215.21   \n",
       "996                   78.0                  390.0       269.34   \n",
       "997                  112.3                  224.6       130.93   \n",
       "998                  113.8                  455.2       149.22   \n",
       "999                   49.5                  346.5       264.81   \n",
       "\n",
       "    possui_nutricionista  primeiro_PGC  ultimo_PGC data_matricula      estado  \n",
       "0                    Não          39.5        24.9     2021-07-28       Ativa  \n",
       "1                    Não          25.2        23.5     2020-12-28       Ativa  \n",
       "2                    Não          27.2        11.4     2022-02-27       Ativa  \n",
       "3                    Sim          14.4        19.2     2022-12-01       Ativa  \n",
       "4                    Sim          21.5        18.1     2024-01-20  Sedentária  \n",
       "..                   ...           ...         ...            ...         ...  \n",
       "995                  Não          31.1        32.4     2024-04-24  Sedentária  \n",
       "996                  Sim          38.8        31.8     2022-11-02       Ativa  \n",
       "997                  Não          23.8        28.4     2025-01-24       Ativa  \n",
       "998                  Sim          30.5        35.7     2020-12-03       Ativa  \n",
       "999                  Sim          14.1        25.8     2025-09-08       Ativa  \n",
       "\n",
       "[1000 rows x 12 columns]"
      ]
     },
     "execution_count": 137,
     "metadata": {},
     "output_type": "execute_result"
    }
   ],
   "source": [
    "df"
   ]
  },
  {
   "cell_type": "markdown",
   "id": "65e4db41",
   "metadata": {},
   "source": [
    "### 3. Análise de Dados"
   ]
  },
  {
   "cell_type": "code",
   "execution_count": 152,
   "id": "d4b319c6",
   "metadata": {},
   "outputs": [
    {
     "name": "stdout",
     "output_type": "stream",
     "text": [
      "<class 'pandas.core.frame.DataFrame'>\n",
      "RangeIndex: 1000 entries, 0 to 999\n",
      "Data columns (total 12 columns):\n",
      " #   Column                     Non-Null Count  Dtype  \n",
      "---  ------                     --------------  -----  \n",
      " 0   idade                      1000 non-null   int64  \n",
      " 1   sexo                       1000 non-null   object \n",
      " 2   frequencia_semanal_treino  949 non-null    float64\n",
      " 3   tipo_atividade             1000 non-null   object \n",
      " 4   tempo_medio_exercicio      954 non-null    float64\n",
      " 5   minutos_totais_semana      905 non-null    float64\n",
      " 6   preco_plano                1000 non-null   float64\n",
      " 7   possui_nutricionista       1000 non-null   object \n",
      " 8   primeiro_PGC               1000 non-null   float64\n",
      " 9   ultimo_PGC                 1000 non-null   float64\n",
      " 10  data_matricula             1000 non-null   object \n",
      " 11  estado                     1000 non-null   object \n",
      "dtypes: float64(6), int64(1), object(5)\n",
      "memory usage: 93.9+ KB\n"
     ]
    }
   ],
   "source": [
    "df.info()"
   ]
  },
  {
   "cell_type": "code",
   "execution_count": 153,
   "id": "11897454",
   "metadata": {},
   "outputs": [
    {
     "data": {
      "application/vnd.microsoft.datawrangler.viewer.v0+json": {
       "columns": [
        {
         "name": "tipo_atividade",
         "rawType": "object",
         "type": "string"
        },
        {
         "name": "0",
         "rawType": "int64",
         "type": "integer"
        }
       ],
       "ref": "c2182a7c-235b-44b3-805e-a45d38aa244a",
       "rows": [
        [
         "Cardio",
         "181"
        ],
        [
         "CrossFit",
         "164"
        ],
        [
         "Fut",
         "9"
        ],
        [
         "Futebol",
         "143"
        ],
        [
         "Musculação",
         "160"
        ],
        [
         "Natacao",
         "5"
        ],
        [
         "Natação",
         "133"
        ],
        [
         "Soccer",
         "4"
        ],
        [
         "Swimming",
         "6"
        ],
        [
         "Yoga",
         "195"
        ]
       ],
       "shape": {
        "columns": 1,
        "rows": 10
       }
      },
      "text/plain": [
       "tipo_atividade\n",
       "Cardio        181\n",
       "CrossFit      164\n",
       "Fut             9\n",
       "Futebol       143\n",
       "Musculação    160\n",
       "Natacao         5\n",
       "Natação       133\n",
       "Soccer          4\n",
       "Swimming        6\n",
       "Yoga          195\n",
       "dtype: int64"
      ]
     },
     "execution_count": 153,
     "metadata": {},
     "output_type": "execute_result"
    }
   ],
   "source": [
    "df.groupby(\"tipo_atividade\").size()"
   ]
  },
  {
   "cell_type": "code",
   "execution_count": 154,
   "id": "c3910941",
   "metadata": {},
   "outputs": [
    {
     "data": {
      "application/vnd.microsoft.datawrangler.viewer.v0+json": {
       "columns": [
        {
         "name": "estado",
         "rawType": "object",
         "type": "string"
        },
        {
         "name": "0",
         "rawType": "int64",
         "type": "integer"
        }
       ],
       "ref": "dd8bdb39-2165-4bea-b260-26c825b92afa",
       "rows": [
        [
         "Ativa",
         "834"
        ],
        [
         "Sedentária",
         "166"
        ]
       ],
       "shape": {
        "columns": 1,
        "rows": 2
       }
      },
      "text/plain": [
       "estado\n",
       "Ativa         834\n",
       "Sedentária    166\n",
       "dtype: int64"
      ]
     },
     "execution_count": 154,
     "metadata": {},
     "output_type": "execute_result"
    }
   ],
   "source": [
    "df.groupby(\"estado\").size()"
   ]
  },
  {
   "cell_type": "markdown",
   "id": "bdfc14d1",
   "metadata": {},
   "source": [
    "### 4. Tratamento de Dados:"
   ]
  },
  {
   "cell_type": "code",
   "execution_count": 155,
   "id": "778e0e16",
   "metadata": {},
   "outputs": [],
   "source": [
    "df[\"frequencia_semanal_treino\"] = df[\"frequencia_semanal_treino\"].fillna(df[\"frequencia_semanal_treino\"].mean())\n",
    "df[\"tempo_medio_exercicio\"] = df[\"tempo_medio_exercicio\"].fillna(df[\"tempo_medio_exercicio\"].mean())\n",
    "df[\"minutos_totais_semana\"] = df[\"minutos_totais_semana\"].fillna(df[\"minutos_totais_semana\"].mean())\n"
   ]
  },
  {
   "cell_type": "code",
   "execution_count": 156,
   "id": "0fd8d7a9",
   "metadata": {},
   "outputs": [],
   "source": [
    "df.loc[df[\"tipo_atividade\"] == \"Fut\", \"tipo_atividade\"] = \"Futebol\"\n",
    "df.loc[df[\"tipo_atividade\"] == \"Soccer\", \"tipo_atividade\"] = \"Futebol\"\n",
    "df.loc[df[\"tipo_atividade\"] == \"Natacao\", \"tipo_atividade\"] = \"Natação\""
   ]
  },
  {
   "cell_type": "code",
   "execution_count": 143,
   "id": "f03ae5a1",
   "metadata": {},
   "outputs": [
    {
     "data": {
      "application/vnd.microsoft.datawrangler.viewer.v0+json": {
       "columns": [
        {
         "name": "tipo_atividade",
         "rawType": "object",
         "type": "string"
        },
        {
         "name": "0",
         "rawType": "int64",
         "type": "integer"
        }
       ],
       "ref": "3911f1c4-56fb-4c1d-ba5f-b1ee2b6fe7f8",
       "rows": [
        [
         "Cardio",
         "181"
        ],
        [
         "CrossFit",
         "164"
        ],
        [
         "Futebol",
         "156"
        ],
        [
         "Musculação",
         "160"
        ],
        [
         "Natação",
         "138"
        ],
        [
         "Swimming",
         "6"
        ],
        [
         "Yoga",
         "195"
        ]
       ],
       "shape": {
        "columns": 1,
        "rows": 7
       }
      },
      "text/plain": [
       "tipo_atividade\n",
       "Cardio        181\n",
       "CrossFit      164\n",
       "Futebol       156\n",
       "Musculação    160\n",
       "Natação       138\n",
       "Swimming        6\n",
       "Yoga          195\n",
       "dtype: int64"
      ]
     },
     "execution_count": 143,
     "metadata": {},
     "output_type": "execute_result"
    }
   ],
   "source": [
    "df.groupby(\"tipo_atividade\").size()"
   ]
  },
  {
   "cell_type": "code",
   "execution_count": 144,
   "id": "646a23bb",
   "metadata": {},
   "outputs": [
    {
     "name": "stdout",
     "output_type": "stream",
     "text": [
      "<class 'pandas.core.frame.DataFrame'>\n",
      "RangeIndex: 1000 entries, 0 to 999\n",
      "Data columns (total 12 columns):\n",
      " #   Column                     Non-Null Count  Dtype  \n",
      "---  ------                     --------------  -----  \n",
      " 0   idade                      1000 non-null   int64  \n",
      " 1   sexo                       1000 non-null   object \n",
      " 2   frequencia_semanal_treino  1000 non-null   float64\n",
      " 3   tipo_atividade             1000 non-null   object \n",
      " 4   tempo_medio_exercicio      1000 non-null   float64\n",
      " 5   minutos_totais_semana      1000 non-null   float64\n",
      " 6   preco_plano                1000 non-null   float64\n",
      " 7   possui_nutricionista       1000 non-null   object \n",
      " 8   primeiro_PGC               1000 non-null   float64\n",
      " 9   ultimo_PGC                 1000 non-null   float64\n",
      " 10  data_matricula             1000 non-null   object \n",
      " 11  estado                     1000 non-null   object \n",
      "dtypes: float64(6), int64(1), object(5)\n",
      "memory usage: 93.9+ KB\n"
     ]
    }
   ],
   "source": [
    "df.info()"
   ]
  },
  {
   "cell_type": "markdown",
   "id": "bf60d169",
   "metadata": {},
   "source": [
    "### 5. Separar a Base de Dados entre Features e Classes:"
   ]
  },
  {
   "cell_type": "code",
   "execution_count": 157,
   "id": "ad31960a",
   "metadata": {},
   "outputs": [
    {
     "data": {
      "text/plain": [
       "(array([[48, 'Outro', 7.0, ..., 39.5, 24.9, '2021-07-28'],\n",
       "        [30, 'Outro', 7.0, ..., 25.2, 23.5, '2020-12-28'],\n",
       "        [35, 'Masculino', 5.0, ..., 27.2, 11.4, '2022-02-27'],\n",
       "        ...,\n",
       "        [25, 'Feminino', 2.0, ..., 23.8, 28.4, '2025-01-24'],\n",
       "        [24, 'Masculino', 4.0, ..., 30.5, 35.7, '2020-12-03'],\n",
       "        [54, 'Masculino', 7.0, ..., 14.1, 25.8, '2025-09-08']],\n",
       "       shape=(1000, 11), dtype=object),\n",
       " array(['Ativa', 'Ativa', 'Ativa', 'Ativa', 'Sedentária', 'Ativa', 'Ativa',\n",
       "        'Ativa', 'Ativa', 'Ativa', 'Sedentária', 'Sedentária', 'Ativa',\n",
       "        'Ativa', 'Ativa', 'Ativa', 'Ativa', 'Sedentária', 'Ativa', 'Ativa',\n",
       "        'Ativa', 'Ativa', 'Ativa', 'Ativa', 'Ativa', 'Ativa', 'Sedentária',\n",
       "        'Ativa', 'Ativa', 'Ativa', 'Ativa', 'Ativa', 'Ativa', 'Sedentária',\n",
       "        'Ativa', 'Ativa', 'Sedentária', 'Ativa', 'Ativa', 'Ativa', 'Ativa',\n",
       "        'Ativa', 'Ativa', 'Sedentária', 'Sedentária', 'Ativa', 'Ativa',\n",
       "        'Ativa', 'Ativa', 'Ativa', 'Ativa', 'Ativa', 'Ativa', 'Ativa',\n",
       "        'Ativa', 'Ativa', 'Ativa', 'Ativa', 'Ativa', 'Ativa', 'Ativa',\n",
       "        'Ativa', 'Ativa', 'Ativa', 'Ativa', 'Ativa', 'Ativa', 'Ativa',\n",
       "        'Sedentária', 'Ativa', 'Sedentária', 'Ativa', 'Ativa',\n",
       "        'Sedentária', 'Ativa', 'Ativa', 'Ativa', 'Sedentária', 'Ativa',\n",
       "        'Sedentária', 'Ativa', 'Ativa', 'Ativa', 'Ativa', 'Ativa',\n",
       "        'Sedentária', 'Ativa', 'Ativa', 'Ativa', 'Ativa', 'Ativa', 'Ativa',\n",
       "        'Ativa', 'Ativa', 'Ativa', 'Ativa', 'Ativa', 'Ativa', 'Ativa',\n",
       "        'Ativa', 'Sedentária', 'Ativa', 'Ativa', 'Ativa', 'Ativa', 'Ativa',\n",
       "        'Ativa', 'Ativa', 'Ativa', 'Ativa', 'Ativa', 'Ativa', 'Ativa',\n",
       "        'Ativa', 'Sedentária', 'Ativa', 'Ativa', 'Ativa', 'Ativa', 'Ativa',\n",
       "        'Ativa', 'Sedentária', 'Ativa', 'Sedentária', 'Sedentária',\n",
       "        'Ativa', 'Ativa', 'Sedentária', 'Ativa', 'Ativa', 'Ativa', 'Ativa',\n",
       "        'Ativa', 'Ativa', 'Sedentária', 'Ativa', 'Ativa', 'Ativa', 'Ativa',\n",
       "        'Ativa', 'Ativa', 'Ativa', 'Ativa', 'Ativa', 'Ativa', 'Sedentária',\n",
       "        'Ativa', 'Ativa', 'Ativa', 'Ativa', 'Ativa', 'Ativa', 'Ativa',\n",
       "        'Ativa', 'Sedentária', 'Ativa', 'Ativa', 'Sedentária', 'Ativa',\n",
       "        'Ativa', 'Sedentária', 'Ativa', 'Ativa', 'Sedentária',\n",
       "        'Sedentária', 'Ativa', 'Ativa', 'Ativa', 'Ativa', 'Ativa', 'Ativa',\n",
       "        'Ativa', 'Ativa', 'Ativa', 'Ativa', 'Sedentária', 'Ativa', 'Ativa',\n",
       "        'Ativa', 'Ativa', 'Ativa', 'Ativa', 'Sedentária', 'Ativa', 'Ativa',\n",
       "        'Ativa', 'Ativa', 'Ativa', 'Ativa', 'Ativa', 'Ativa', 'Ativa',\n",
       "        'Ativa', 'Ativa', 'Ativa', 'Ativa', 'Ativa', 'Ativa', 'Ativa',\n",
       "        'Ativa', 'Ativa', 'Ativa', 'Ativa', 'Ativa', 'Ativa', 'Ativa',\n",
       "        'Ativa', 'Ativa', 'Ativa', 'Sedentária', 'Ativa', 'Ativa', 'Ativa',\n",
       "        'Sedentária', 'Ativa', 'Ativa', 'Ativa', 'Ativa', 'Ativa', 'Ativa',\n",
       "        'Sedentária', 'Sedentária', 'Ativa', 'Sedentária', 'Ativa',\n",
       "        'Ativa', 'Ativa', 'Ativa', 'Sedentária', 'Ativa', 'Ativa', 'Ativa',\n",
       "        'Ativa', 'Ativa', 'Ativa', 'Ativa', 'Ativa', 'Ativa', 'Ativa',\n",
       "        'Ativa', 'Ativa', 'Sedentária', 'Ativa', 'Ativa', 'Sedentária',\n",
       "        'Ativa', 'Ativa', 'Ativa', 'Ativa', 'Ativa', 'Ativa', 'Ativa',\n",
       "        'Ativa', 'Ativa', 'Ativa', 'Sedentária', 'Sedentária', 'Ativa',\n",
       "        'Ativa', 'Ativa', 'Ativa', 'Sedentária', 'Sedentária', 'Ativa',\n",
       "        'Ativa', 'Ativa', 'Ativa', 'Sedentária', 'Sedentária', 'Ativa',\n",
       "        'Ativa', 'Ativa', 'Sedentária', 'Ativa', 'Sedentária',\n",
       "        'Sedentária', 'Ativa', 'Ativa', 'Ativa', 'Ativa', 'Ativa', 'Ativa',\n",
       "        'Sedentária', 'Sedentária', 'Ativa', 'Ativa', 'Ativa',\n",
       "        'Sedentária', 'Ativa', 'Ativa', 'Ativa', 'Ativa', 'Ativa',\n",
       "        'Sedentária', 'Ativa', 'Sedentária', 'Sedentária', 'Ativa',\n",
       "        'Ativa', 'Ativa', 'Ativa', 'Ativa', 'Ativa', 'Ativa', 'Ativa',\n",
       "        'Ativa', 'Ativa', 'Ativa', 'Ativa', 'Ativa', 'Ativa', 'Ativa',\n",
       "        'Sedentária', 'Ativa', 'Ativa', 'Ativa', 'Ativa', 'Ativa', 'Ativa',\n",
       "        'Ativa', 'Ativa', 'Sedentária', 'Ativa', 'Ativa', 'Ativa', 'Ativa',\n",
       "        'Ativa', 'Ativa', 'Ativa', 'Ativa', 'Ativa', 'Sedentária', 'Ativa',\n",
       "        'Ativa', 'Ativa', 'Ativa', 'Ativa', 'Ativa', 'Sedentária', 'Ativa',\n",
       "        'Sedentária', 'Ativa', 'Sedentária', 'Ativa', 'Ativa', 'Ativa',\n",
       "        'Ativa', 'Sedentária', 'Sedentária', 'Ativa', 'Ativa', 'Ativa',\n",
       "        'Ativa', 'Ativa', 'Ativa', 'Ativa', 'Sedentária', 'Ativa', 'Ativa',\n",
       "        'Ativa', 'Ativa', 'Sedentária', 'Ativa', 'Sedentária', 'Ativa',\n",
       "        'Ativa', 'Ativa', 'Ativa', 'Ativa', 'Ativa', 'Ativa', 'Ativa',\n",
       "        'Ativa', 'Ativa', 'Ativa', 'Ativa', 'Ativa', 'Ativa', 'Ativa',\n",
       "        'Ativa', 'Ativa', 'Ativa', 'Ativa', 'Ativa', 'Ativa', 'Ativa',\n",
       "        'Ativa', 'Sedentária', 'Ativa', 'Ativa', 'Ativa', 'Ativa', 'Ativa',\n",
       "        'Ativa', 'Ativa', 'Sedentária', 'Sedentária', 'Ativa', 'Ativa',\n",
       "        'Ativa', 'Ativa', 'Ativa', 'Ativa', 'Ativa', 'Ativa', 'Ativa',\n",
       "        'Ativa', 'Ativa', 'Ativa', 'Ativa', 'Sedentária', 'Ativa', 'Ativa',\n",
       "        'Ativa', 'Ativa', 'Sedentária', 'Ativa', 'Sedentária', 'Ativa',\n",
       "        'Ativa', 'Ativa', 'Ativa', 'Ativa', 'Ativa', 'Ativa', 'Ativa',\n",
       "        'Ativa', 'Ativa', 'Ativa', 'Sedentária', 'Ativa', 'Ativa', 'Ativa',\n",
       "        'Ativa', 'Sedentária', 'Ativa', 'Ativa', 'Ativa', 'Ativa', 'Ativa',\n",
       "        'Ativa', 'Ativa', 'Ativa', 'Ativa', 'Ativa', 'Ativa', 'Ativa',\n",
       "        'Ativa', 'Ativa', 'Ativa', 'Sedentária', 'Ativa', 'Ativa', 'Ativa',\n",
       "        'Ativa', 'Ativa', 'Ativa', 'Ativa', 'Ativa', 'Ativa', 'Ativa',\n",
       "        'Ativa', 'Ativa', 'Ativa', 'Ativa', 'Ativa', 'Ativa', 'Sedentária',\n",
       "        'Ativa', 'Ativa', 'Ativa', 'Ativa', 'Ativa', 'Ativa', 'Ativa',\n",
       "        'Sedentária', 'Ativa', 'Ativa', 'Ativa', 'Ativa', 'Ativa', 'Ativa',\n",
       "        'Ativa', 'Sedentária', 'Ativa', 'Ativa', 'Ativa', 'Ativa', 'Ativa',\n",
       "        'Ativa', 'Ativa', 'Ativa', 'Ativa', 'Ativa', 'Ativa', 'Ativa',\n",
       "        'Ativa', 'Ativa', 'Ativa', 'Sedentária', 'Ativa', 'Ativa', 'Ativa',\n",
       "        'Ativa', 'Ativa', 'Ativa', 'Ativa', 'Ativa', 'Ativa', 'Sedentária',\n",
       "        'Ativa', 'Ativa', 'Ativa', 'Sedentária', 'Ativa', 'Sedentária',\n",
       "        'Ativa', 'Sedentária', 'Ativa', 'Sedentária', 'Ativa', 'Ativa',\n",
       "        'Ativa', 'Sedentária', 'Ativa', 'Ativa', 'Ativa', 'Ativa',\n",
       "        'Sedentária', 'Ativa', 'Ativa', 'Ativa', 'Sedentária', 'Ativa',\n",
       "        'Ativa', 'Ativa', 'Ativa', 'Sedentária', 'Sedentária', 'Ativa',\n",
       "        'Ativa', 'Ativa', 'Sedentária', 'Ativa', 'Sedentária', 'Ativa',\n",
       "        'Ativa', 'Ativa', 'Ativa', 'Sedentária', 'Ativa', 'Ativa', 'Ativa',\n",
       "        'Ativa', 'Ativa', 'Ativa', 'Sedentária', 'Sedentária', 'Ativa',\n",
       "        'Ativa', 'Sedentária', 'Ativa', 'Ativa', 'Ativa', 'Ativa', 'Ativa',\n",
       "        'Sedentária', 'Sedentária', 'Ativa', 'Ativa', 'Ativa', 'Ativa',\n",
       "        'Ativa', 'Ativa', 'Sedentária', 'Ativa', 'Sedentária', 'Ativa',\n",
       "        'Sedentária', 'Ativa', 'Sedentária', 'Ativa', 'Ativa', 'Ativa',\n",
       "        'Ativa', 'Ativa', 'Sedentária', 'Ativa', 'Ativa', 'Sedentária',\n",
       "        'Ativa', 'Ativa', 'Sedentária', 'Ativa', 'Ativa', 'Sedentária',\n",
       "        'Ativa', 'Ativa', 'Ativa', 'Ativa', 'Ativa', 'Ativa', 'Ativa',\n",
       "        'Sedentária', 'Ativa', 'Sedentária', 'Ativa', 'Ativa', 'Ativa',\n",
       "        'Ativa', 'Ativa', 'Ativa', 'Ativa', 'Ativa', 'Ativa', 'Ativa',\n",
       "        'Ativa', 'Ativa', 'Ativa', 'Sedentária', 'Sedentária',\n",
       "        'Sedentária', 'Ativa', 'Ativa', 'Ativa', 'Ativa', 'Ativa', 'Ativa',\n",
       "        'Sedentária', 'Ativa', 'Ativa', 'Ativa', 'Ativa', 'Ativa', 'Ativa',\n",
       "        'Ativa', 'Ativa', 'Ativa', 'Sedentária', 'Ativa', 'Ativa',\n",
       "        'Sedentária', 'Ativa', 'Ativa', 'Ativa', 'Ativa', 'Sedentária',\n",
       "        'Ativa', 'Ativa', 'Ativa', 'Ativa', 'Ativa', 'Ativa', 'Ativa',\n",
       "        'Ativa', 'Ativa', 'Ativa', 'Ativa', 'Ativa', 'Ativa', 'Ativa',\n",
       "        'Sedentária', 'Ativa', 'Sedentária', 'Ativa', 'Sedentária',\n",
       "        'Ativa', 'Ativa', 'Ativa', 'Ativa', 'Ativa', 'Ativa', 'Ativa',\n",
       "        'Ativa', 'Ativa', 'Ativa', 'Ativa', 'Ativa', 'Ativa', 'Ativa',\n",
       "        'Ativa', 'Ativa', 'Ativa', 'Ativa', 'Ativa', 'Ativa', 'Ativa',\n",
       "        'Ativa', 'Ativa', 'Ativa', 'Ativa', 'Ativa', 'Ativa', 'Sedentária',\n",
       "        'Ativa', 'Sedentária', 'Ativa', 'Ativa', 'Ativa', 'Ativa', 'Ativa',\n",
       "        'Ativa', 'Ativa', 'Sedentária', 'Ativa', 'Ativa', 'Ativa', 'Ativa',\n",
       "        'Ativa', 'Ativa', 'Ativa', 'Ativa', 'Ativa', 'Ativa', 'Ativa',\n",
       "        'Ativa', 'Sedentária', 'Ativa', 'Ativa', 'Ativa', 'Ativa', 'Ativa',\n",
       "        'Ativa', 'Ativa', 'Ativa', 'Sedentária', 'Ativa', 'Ativa', 'Ativa',\n",
       "        'Ativa', 'Ativa', 'Sedentária', 'Ativa', 'Sedentária', 'Ativa',\n",
       "        'Ativa', 'Ativa', 'Ativa', 'Ativa', 'Sedentária', 'Ativa', 'Ativa',\n",
       "        'Ativa', 'Ativa', 'Ativa', 'Ativa', 'Ativa', 'Ativa', 'Ativa',\n",
       "        'Ativa', 'Ativa', 'Ativa', 'Ativa', 'Ativa', 'Ativa', 'Ativa',\n",
       "        'Ativa', 'Ativa', 'Ativa', 'Ativa', 'Sedentária', 'Sedentária',\n",
       "        'Ativa', 'Sedentária', 'Ativa', 'Ativa', 'Ativa', 'Sedentária',\n",
       "        'Ativa', 'Ativa', 'Ativa', 'Ativa', 'Ativa', 'Ativa', 'Ativa',\n",
       "        'Ativa', 'Sedentária', 'Ativa', 'Ativa', 'Ativa', 'Ativa', 'Ativa',\n",
       "        'Ativa', 'Ativa', 'Ativa', 'Ativa', 'Ativa', 'Ativa', 'Ativa',\n",
       "        'Ativa', 'Ativa', 'Ativa', 'Ativa', 'Ativa', 'Sedentária', 'Ativa',\n",
       "        'Ativa', 'Ativa', 'Ativa', 'Ativa', 'Sedentária', 'Sedentária',\n",
       "        'Ativa', 'Ativa', 'Ativa', 'Ativa', 'Ativa', 'Ativa', 'Ativa',\n",
       "        'Ativa', 'Ativa', 'Ativa', 'Ativa', 'Sedentária', 'Sedentária',\n",
       "        'Ativa', 'Ativa', 'Ativa', 'Ativa', 'Ativa', 'Ativa', 'Ativa',\n",
       "        'Ativa', 'Ativa', 'Ativa', 'Sedentária', 'Sedentária', 'Ativa',\n",
       "        'Ativa', 'Ativa', 'Ativa', 'Ativa', 'Ativa', 'Ativa', 'Sedentária',\n",
       "        'Ativa', 'Ativa', 'Ativa', 'Ativa', 'Sedentária', 'Ativa', 'Ativa',\n",
       "        'Ativa', 'Sedentária', 'Ativa', 'Sedentária', 'Ativa',\n",
       "        'Sedentária', 'Ativa', 'Ativa', 'Ativa', 'Ativa', 'Ativa', 'Ativa',\n",
       "        'Ativa', 'Ativa', 'Ativa', 'Ativa', 'Sedentária', 'Ativa', 'Ativa',\n",
       "        'Ativa', 'Ativa', 'Ativa', 'Sedentária', 'Ativa', 'Ativa', 'Ativa',\n",
       "        'Ativa', 'Sedentária', 'Ativa', 'Ativa', 'Ativa', 'Ativa', 'Ativa',\n",
       "        'Ativa', 'Sedentária', 'Ativa', 'Ativa', 'Ativa', 'Ativa',\n",
       "        'Sedentária', 'Ativa', 'Ativa', 'Ativa', 'Ativa', 'Sedentária',\n",
       "        'Sedentária', 'Ativa', 'Ativa', 'Ativa', 'Ativa', 'Sedentária',\n",
       "        'Ativa', 'Ativa', 'Ativa', 'Sedentária', 'Ativa', 'Ativa', 'Ativa',\n",
       "        'Ativa', 'Ativa', 'Ativa', 'Sedentária', 'Ativa', 'Ativa', 'Ativa',\n",
       "        'Ativa', 'Ativa', 'Ativa', 'Ativa', 'Sedentária', 'Ativa', 'Ativa',\n",
       "        'Ativa', 'Ativa', 'Ativa', 'Sedentária', 'Ativa', 'Ativa', 'Ativa',\n",
       "        'Ativa', 'Ativa', 'Ativa', 'Ativa', 'Ativa', 'Ativa', 'Ativa',\n",
       "        'Ativa', 'Ativa', 'Ativa', 'Ativa', 'Ativa', 'Ativa', 'Sedentária',\n",
       "        'Ativa', 'Sedentária', 'Ativa', 'Ativa', 'Ativa', 'Ativa', 'Ativa',\n",
       "        'Ativa', 'Ativa', 'Ativa', 'Ativa', 'Ativa', 'Ativa', 'Sedentária',\n",
       "        'Ativa', 'Sedentária', 'Sedentária', 'Ativa', 'Sedentária',\n",
       "        'Ativa', 'Sedentária', 'Ativa', 'Ativa', 'Ativa', 'Ativa', 'Ativa',\n",
       "        'Ativa', 'Sedentária', 'Ativa', 'Sedentária', 'Ativa',\n",
       "        'Sedentária', 'Ativa', 'Ativa', 'Ativa', 'Ativa', 'Ativa',\n",
       "        'Sedentária', 'Ativa', 'Ativa', 'Ativa', 'Ativa', 'Ativa', 'Ativa',\n",
       "        'Ativa', 'Ativa', 'Ativa', 'Sedentária', 'Ativa', 'Ativa', 'Ativa',\n",
       "        'Ativa', 'Ativa', 'Sedentária', 'Ativa', 'Ativa', 'Ativa', 'Ativa',\n",
       "        'Ativa', 'Ativa', 'Sedentária', 'Ativa', 'Ativa', 'Ativa', 'Ativa'],\n",
       "       dtype=object))"
      ]
     },
     "execution_count": 157,
     "metadata": {},
     "output_type": "execute_result"
    }
   ],
   "source": [
    "x_data = df.iloc[:, 0:11].values\n",
    "y_data = df.iloc[:, 11].values\n",
    "\n",
    "x_data, y_data"
   ]
  },
  {
   "cell_type": "markdown",
   "id": "1c1f09ad",
   "metadata": {},
   "source": [
    "#### 5.1 Segmentar colunas númericas e objetos"
   ]
  },
  {
   "cell_type": "code",
   "execution_count": 158,
   "id": "8f082b3e",
   "metadata": {},
   "outputs": [
    {
     "data": {
      "text/plain": [
       "([0, 2, 4, 5, 6, 8, 9], [1, 3, 7, 10])"
      ]
     },
     "execution_count": 158,
     "metadata": {},
     "output_type": "execute_result"
    }
   ],
   "source": [
    "colunas_numericas = [index for index in range(x_data.shape[1]) if type(x_data[0][index]) == int or type(x_data[0][index]) == float]\n",
    "colunas_objetos = [index for index in range(x_data.shape[1]) if type(x_data[0][index]) ==  str or type(x_data[0][index]) == np.str_] \n",
    "\n",
    "colunas_numericas, colunas_objetos"
   ]
  },
  {
   "cell_type": "markdown",
   "id": "53b4a0a3",
   "metadata": {},
   "source": [
    "### 6. Aplicando Pré-processamento"
   ]
  },
  {
   "cell_type": "code",
   "execution_count": 159,
   "id": "cb3dd0e4",
   "metadata": {},
   "outputs": [
    {
     "data": {
      "text/plain": [
       "array([[1.2042299952755242, -0.9723812481885865, 0.5328002989467715, ...,\n",
       "        223.0, 317.1, 24.9],\n",
       "       [1.2042299952755242, -0.9723812481885865, -0.8012385633486641,\n",
       "        ..., 138.0, 686.7, 23.5],\n",
       "       [-0.035965674421205046, -0.9723812481885865, -0.4306722127110431,\n",
       "        ..., 320.0, 169.5, 11.4],\n",
       "       ...,\n",
       "       [-1.2761613441179345, -0.9723812481885865, -1.1718049139862852,\n",
       "        ..., 714.0, 224.6, 28.4],\n",
       "       [-0.035965674421205046, 1.0284032131048015, -1.2459181841138092,\n",
       "        ..., 130.0, 455.2, 35.7],\n",
       "       [-0.035965674421205046, 1.0284032131048015, 0.9774799197119166,\n",
       "        ..., 805.0, 346.5, 25.8]], shape=(1000, 11), dtype=object)"
      ]
     },
     "execution_count": 159,
     "metadata": {},
     "output_type": "execute_result"
    }
   ],
   "source": [
    "encoder_cat = ColumnTransformer(transformers=[('OneHot', OrdinalEncoder(), colunas_objetos)], remainder='passthrough')\n",
    "\n",
    "scaler = ColumnTransformer(transformers=[('Scaler', StandardScaler(), colunas_numericas)], remainder='passthrough')\n",
    "\n",
    "preprocessor = Pipeline(steps=[('encoder', encoder_cat),\n",
    "                                ('scaler', scaler)])\n",
    "\n",
    "x_data = preprocessor.fit_transform(x_data)\n",
    "\n",
    "x_data"
   ]
  },
  {
   "cell_type": "markdown",
   "id": "a49e1432",
   "metadata": {},
   "source": [
    "### 7. Tratando Dados Desbalanceados"
   ]
  },
  {
   "cell_type": "code",
   "execution_count": 161,
   "id": "accb7dbc",
   "metadata": {},
   "outputs": [
    {
     "data": {
      "text/plain": [
       "(array([[ 1.20423000e+00, -9.72381248e-01,  5.32800299e-01, ...,\n",
       "          2.23000000e+02,  3.17100000e+02,  2.49000000e+01],\n",
       "        [ 1.20423000e+00, -9.72381248e-01, -8.01238563e-01, ...,\n",
       "          1.38000000e+02,  6.86700000e+02,  2.35000000e+01],\n",
       "        [-3.59656744e-02, -9.72381248e-01, -4.30672213e-01, ...,\n",
       "          3.20000000e+02,  1.69500000e+02,  1.14000000e+01],\n",
       "        ...,\n",
       "        [-1.27616134e+00,  9.94649575e-01,  2.94206513e-01, ...,\n",
       "          1.50696336e+02,  0.00000000e+00,  1.38443283e+01],\n",
       "        [-3.59656744e-02,  2.43973554e-01, -7.54892340e-01, ...,\n",
       "          6.57176183e+02,  0.00000000e+00,  2.31019546e+01],\n",
       "        [ 1.20423000e+00,  1.02840321e+00,  3.76944204e-01, ...,\n",
       "          3.19232139e+02,  0.00000000e+00,  3.28622917e+01]],\n",
       "       shape=(1668, 11)),\n",
       " array(['Ativa', 'Ativa', 'Ativa', ..., 'Sedentária', 'Sedentária',\n",
       "        'Sedentária'], shape=(1668,), dtype=object))"
      ]
     },
     "execution_count": 161,
     "metadata": {},
     "output_type": "execute_result"
    }
   ],
   "source": [
    "over_sampling = SMOTE(sampling_strategy=\"minority\")\n",
    "x_data, y_data = over_sampling.fit_resample(x_data, y_data)\n",
    "\n",
    "x_data, y_data "
   ]
  },
  {
   "cell_type": "markdown",
   "id": "84ee3cf2",
   "metadata": {},
   "source": [
    "### 8. Dividindo a Base de Dados entre treino e teste"
   ]
  },
  {
   "cell_type": "code",
   "execution_count": 162,
   "id": "1eb34e3b",
   "metadata": {},
   "outputs": [],
   "source": [
    "x_train, x_test, y_train, y_test = train_test_split(x_data, y_data, test_size=0.3)"
   ]
  },
  {
   "cell_type": "markdown",
   "id": "ab8fba04",
   "metadata": {},
   "source": [
    "### 9. Treinando os Modelos"
   ]
  },
  {
   "cell_type": "markdown",
   "id": "c447b4c1",
   "metadata": {},
   "source": [
    "#### 9.1 Regressão Logística"
   ]
  },
  {
   "cell_type": "code",
   "execution_count": 163,
   "id": "5caf1a0f",
   "metadata": {},
   "outputs": [],
   "source": [
    "modelLogistic = LogisticRegressionCV(solver=\"liblinear\")\n",
    "modelLogistic.fit(x_train, y_train)\n",
    "y_pred = modelLogistic.predict(x_test)"
   ]
  },
  {
   "cell_type": "code",
   "execution_count": 164,
   "id": "4ded44cd",
   "metadata": {},
   "outputs": [
    {
     "name": "stdout",
     "output_type": "stream",
     "text": [
      "              precision    recall  f1-score   support\n",
      "\n",
      "       Ativa       0.73      0.73      0.73       267\n",
      "  Sedentária       0.69      0.70      0.70       234\n",
      "\n",
      "    accuracy                           0.71       501\n",
      "   macro avg       0.71      0.71      0.71       501\n",
      "weighted avg       0.71      0.71      0.71       501\n",
      "\n"
     ]
    }
   ],
   "source": [
    "print(classification_report(y_test, y_pred))"
   ]
  },
  {
   "cell_type": "markdown",
   "id": "4c4b8d44",
   "metadata": {},
   "source": [
    "#### 9.2 SVM (Support Vector Machines)"
   ]
  },
  {
   "cell_type": "code",
   "execution_count": 165,
   "id": "74aa3467",
   "metadata": {},
   "outputs": [],
   "source": [
    "modelSVC = SVC()\n",
    "modelSVC.fit(x_train, y_train)\n",
    "y_pred = modelSVC.predict(x_test)"
   ]
  },
  {
   "cell_type": "code",
   "execution_count": 166,
   "id": "4021e082",
   "metadata": {},
   "outputs": [
    {
     "name": "stdout",
     "output_type": "stream",
     "text": [
      "              precision    recall  f1-score   support\n",
      "\n",
      "       Ativa       0.74      0.90      0.81       267\n",
      "  Sedentária       0.85      0.65      0.73       234\n",
      "\n",
      "    accuracy                           0.78       501\n",
      "   macro avg       0.80      0.77      0.77       501\n",
      "weighted avg       0.79      0.78      0.78       501\n",
      "\n"
     ]
    }
   ],
   "source": [
    "print(classification_report(y_test, y_pred))"
   ]
  },
  {
   "cell_type": "markdown",
   "id": "384e04da",
   "metadata": {},
   "source": [
    "#### 9.3 Random Forest Classifier"
   ]
  },
  {
   "cell_type": "code",
   "execution_count": 167,
   "id": "cb8b0cc4",
   "metadata": {},
   "outputs": [],
   "source": [
    "modelRFC = RandomForestClassifier()\n",
    "modelRFC.fit(x_train, y_train)\n",
    "y_pred = modelRFC.predict(x_test)"
   ]
  },
  {
   "cell_type": "code",
   "execution_count": 168,
   "id": "21731c5f",
   "metadata": {},
   "outputs": [
    {
     "name": "stdout",
     "output_type": "stream",
     "text": [
      "              precision    recall  f1-score   support\n",
      "\n",
      "       Ativa       1.00      0.99      1.00       267\n",
      "  Sedentária       0.99      1.00      1.00       234\n",
      "\n",
      "    accuracy                           1.00       501\n",
      "   macro avg       1.00      1.00      1.00       501\n",
      "weighted avg       1.00      1.00      1.00       501\n",
      "\n"
     ]
    }
   ],
   "source": [
    "print(classification_report(y_test, y_pred))"
   ]
  },
  {
   "cell_type": "markdown",
   "id": "e78b805e",
   "metadata": {},
   "source": [
    "#### 9.4 Gradient Boosting Classifier"
   ]
  },
  {
   "cell_type": "code",
   "execution_count": 169,
   "id": "8474a0be",
   "metadata": {},
   "outputs": [],
   "source": [
    "modelGBC = GradientBoostingClassifier()\n",
    "modelGBC.fit(x_train, y_train)\n",
    "y_pred = modelGBC.predict(x_test)"
   ]
  },
  {
   "cell_type": "code",
   "execution_count": 170,
   "id": "0e176d90",
   "metadata": {},
   "outputs": [
    {
     "name": "stdout",
     "output_type": "stream",
     "text": [
      "              precision    recall  f1-score   support\n",
      "\n",
      "       Ativa       1.00      0.99      0.99       267\n",
      "  Sedentária       0.99      1.00      0.99       234\n",
      "\n",
      "    accuracy                           0.99       501\n",
      "   macro avg       0.99      0.99      0.99       501\n",
      "weighted avg       0.99      0.99      0.99       501\n",
      "\n"
     ]
    }
   ],
   "source": [
    "print(classification_report(y_test, y_pred))"
   ]
  },
  {
   "cell_type": "markdown",
   "id": "c1ede03e",
   "metadata": {},
   "source": [
    "#### 9.5 KNeighborsClassifier"
   ]
  },
  {
   "cell_type": "code",
   "execution_count": 171,
   "id": "48b207be",
   "metadata": {},
   "outputs": [],
   "source": [
    "modelKNN = KNeighborsClassifier()\n",
    "modelKNN.fit(x_train, y_train)\n",
    "y_pred = modelKNN.predict(x_test)"
   ]
  },
  {
   "cell_type": "code",
   "execution_count": 172,
   "id": "da33cd20",
   "metadata": {},
   "outputs": [
    {
     "name": "stdout",
     "output_type": "stream",
     "text": [
      "              precision    recall  f1-score   support\n",
      "\n",
      "       Ativa       0.99      0.83      0.90       267\n",
      "  Sedentária       0.83      0.99      0.91       234\n",
      "\n",
      "    accuracy                           0.90       501\n",
      "   macro avg       0.91      0.91      0.90       501\n",
      "weighted avg       0.92      0.90      0.90       501\n",
      "\n"
     ]
    }
   ],
   "source": [
    "print(classification_report(y_test, y_pred))"
   ]
  },
  {
   "cell_type": "markdown",
   "id": "2f0b9700",
   "metadata": {},
   "source": [
    "### 10. Importando o melhor modelo"
   ]
  },
  {
   "cell_type": "code",
   "execution_count": null,
   "id": "f8caea7e",
   "metadata": {},
   "outputs": [],
   "source": [
    "import joblib \n",
    "\n",
    "joblib.dump(modelKNN, \"modelKNN.pkl\")\n",
    "joblib.dump(preprocessor, \"preprocessor.pkl\")"
   ]
  }
 ],
 "metadata": {
  "kernelspec": {
   "display_name": "venv (3.12.7)",
   "language": "python",
   "name": "python3"
  },
  "language_info": {
   "codemirror_mode": {
    "name": "ipython",
    "version": 3
   },
   "file_extension": ".py",
   "mimetype": "text/x-python",
   "name": "python",
   "nbconvert_exporter": "python",
   "pygments_lexer": "ipython3",
   "version": "3.12.7"
  }
 },
 "nbformat": 4,
 "nbformat_minor": 5
}
