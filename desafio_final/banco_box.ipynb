{
 "cells": [
  {
   "cell_type": "markdown",
   "id": "75c7c9e1",
   "metadata": {},
   "source": [
    "## Solução para a Construção do Modelo Preditivo: Banco Box"
   ]
  },
  {
   "cell_type": "markdown",
   "id": "ec5f6229",
   "metadata": {},
   "source": [
    "- Enunciado: O Banco Box deseja compreender melhor o perfil de seus clientes para identificar aqueles que apresentam maior risco de inadimplência, prevenindo perdas financeiras. Para isso, desenvolva um modelo de Machine Learning capaz de classificar os perfis de risco."
   ]
  },
  {
   "cell_type": "markdown",
   "id": "f383252b",
   "metadata": {},
   "source": [
    "- **Objetivo**: Criar um modelo capaz de identificar os clientes do Banco Box que apresentam **maior risco**, com o objetivo de prevenir perdas financeiras."
   ]
  },
  {
   "cell_type": "markdown",
   "id": "34fa30eb",
   "metadata": {},
   "source": [
    "### 1. Importação das Bibliotecas"
   ]
  },
  {
   "cell_type": "code",
   "execution_count": 21,
   "id": "067bc1eb",
   "metadata": {},
   "outputs": [],
   "source": [
    "import pandas as pd\n",
    "import numpy as np\n",
    "\n",
    "from sklearn.compose import ColumnTransformer\n",
    "from sklearn.preprocessing import StandardScaler\n",
    "from sklearn.preprocessing import OrdinalEncoder\n",
    "from sklearn.model_selection import train_test_split\n",
    "from sklearn.pipeline import Pipeline\n",
    "from sklearn.metrics import confusion_matrix, classification_report\n",
    "from sklearn.svm import SVC\n",
    "from sklearn.linear_model import LogisticRegressionCV\n",
    "from sklearn.ensemble import RandomForestClassifier, GradientBoostingClassifier\n",
    "from sklearn.neighbors import KNeighborsClassifier"
   ]
  },
  {
   "cell_type": "markdown",
   "id": "61d126d5",
   "metadata": {},
   "source": [
    "### 2. Importar Base de Dados"
   ]
  },
  {
   "cell_type": "code",
   "execution_count": 26,
   "id": "2e65c227",
   "metadata": {},
   "outputs": [],
   "source": [
    "df = pd.read_csv(\"data/banco_box_sintetico.csv\")"
   ]
  },
  {
   "cell_type": "code",
   "execution_count": 27,
   "id": "59089da5",
   "metadata": {},
   "outputs": [
    {
     "data": {
      "application/vnd.microsoft.datawrangler.viewer.v0+json": {
       "columns": [
        {
         "name": "index",
         "rawType": "int64",
         "type": "integer"
        },
        {
         "name": "idade",
         "rawType": "int64",
         "type": "integer"
        },
        {
         "name": "renda_mensal",
         "rawType": "float64",
         "type": "float"
        },
        {
         "name": "tempo_emprego",
         "rawType": "float64",
         "type": "float"
        },
        {
         "name": "dividas_total",
         "rawType": "int64",
         "type": "integer"
        },
        {
         "name": "limite_cartao",
         "rawType": "float64",
         "type": "float"
        },
        {
         "name": "historico_credito",
         "rawType": "int64",
         "type": "integer"
        },
        {
         "name": "num_cartoes_credito",
         "rawType": "int64",
         "type": "integer"
        },
        {
         "name": "num_emprestimos",
         "rawType": "int64",
         "type": "integer"
        },
        {
         "name": "atraso_pagamento",
         "rawType": "int64",
         "type": "integer"
        },
        {
         "name": "possui_imovel",
         "rawType": "object",
         "type": "string"
        },
        {
         "name": "possui_veiculo",
         "rawType": "object",
         "type": "string"
        },
        {
         "name": "cargo_atual",
         "rawType": "object",
         "type": "string"
        },
        {
         "name": "risco_credito",
         "rawType": "object",
         "type": "string"
        }
       ],
       "ref": "e94e5199-e9a3-45ed-922c-4622157f7bd0",
       "rows": [
        [
         "0",
         "50",
         "4145.83",
         "1.4",
         "5798",
         "13957.29",
         "1",
         "1",
         "1",
         "0",
         "Não",
         "Não",
         "Analista de TI",
         "Médio"
        ],
        [
         "1",
         "40",
         "14080.13",
         "0.9",
         "39607",
         "57549.72",
         "1",
         "0",
         "2",
         "0",
         "Não",
         "Não",
         "Enfermeiro",
         "Alto"
        ],
        [
         "2",
         "59",
         "7550.31",
         "21.0",
         "7865",
         "20694.49",
         "3",
         "4",
         "0",
         "0",
         "Não",
         "Sim",
         "Advogado",
         "Médio"
        ],
        [
         "3",
         "27",
         "2390.01",
         "5.6",
         "1340",
         "10593.18",
         "17",
         "5",
         "3",
         "0",
         "Sim",
         "Não",
         "Analista de TI",
         "Baixo"
        ],
        [
         "4",
         "39",
         "17135.27",
         "20.3",
         "45245",
         "77949.94",
         "1",
         "3",
         "2",
         "0",
         "Sim",
         "Não",
         "Contador",
         "Alto"
        ],
        [
         "5",
         "42",
         "4069.99",
         "0.9",
         "8298",
         "15170.47",
         "9",
         "0",
         "3",
         "0",
         "Não",
         "Não",
         "Empreendedor",
         "Alto"
        ],
        [
         "6",
         "38",
         "6914.95",
         "22.2",
         "18554",
         "25989.24",
         "14",
         "4",
         "2",
         "0",
         "Sim",
         "Não",
         "Advogado",
         "Alto"
        ],
        [
         "7",
         "50",
         "19562.48",
         "6.3",
         "8331",
         "32261.1",
         "3",
         "4",
         "3",
         "0",
         "Não",
         "Não",
         "Designer",
         "Baixo"
        ],
        [
         "8",
         "42",
         "18347.11",
         "22.4",
         "51824",
         "49444.06",
         "19",
         "2",
         "1",
         "46",
         "Sim",
         "Sim",
         "Engenheiro",
         "Alto"
        ],
        [
         "9",
         "71",
         "19354.0",
         "29.4",
         "24743",
         "80434.87",
         "1",
         "3",
         "3",
         "0",
         "Não",
         "Não",
         "Designer",
         "Médio"
        ],
        [
         "10",
         "90",
         "18623.16",
         "23.7",
         "47871",
         "85013.13",
         "1",
         "4",
         "2",
         "0",
         "Não",
         "Sim",
         "Médico",
         "Alto"
        ],
        [
         "11",
         "84",
         "5110.83",
         "20.5",
         "10657",
         "9475.39",
         "7",
         "5",
         "3",
         "0",
         "Não",
         "Sim",
         "Analista de TI",
         "Alto"
        ],
        [
         "12",
         "23",
         "17052.4",
         "12.0",
         "42185",
         "74675.55",
         "18",
         "2",
         "1",
         "0",
         "Sim",
         "Não",
         "Contador",
         "Alto"
        ],
        [
         "13",
         "46",
         "13098.03",
         "10.3",
         "31603",
         "43999.47",
         "18",
         "0",
         "0",
         "0",
         "Não",
         "Sim",
         "Engenheiro",
         "Alto"
        ],
        [
         "14",
         "46",
         "2577.64",
         "0.7",
         "279",
         "12802.87",
         "10",
         "4",
         "3",
         "0",
         "Não",
         "Sim",
         "Analista de TI",
         "Baixo"
        ],
        [
         "15",
         "68",
         "15441.23",
         "19.4",
         "35479",
         "61054.47",
         "10",
         "1",
         "2",
         "0",
         "Sim",
         "Não",
         "Enfermeiro",
         "Alto"
        ],
        [
         "16",
         "79",
         "5016.75",
         "11.0",
         "4677",
         "7981.46",
         "2",
         "5",
         "3",
         "0",
         "Não",
         "Não",
         "Analista de TI",
         "Baixo"
        ],
        [
         "17",
         "42",
         "15856.46",
         "3.6",
         "5554",
         "39078.44",
         "4",
         "2",
         "0",
         "0",
         "Sim",
         "Não",
         "Empreendedor",
         "Baixo"
        ],
        [
         "18",
         "73",
         "14652.85",
         "16.0",
         "41888",
         "66262.11",
         "1",
         "5",
         "3",
         "0",
         "Sim",
         "Não",
         "Professor",
         "Alto"
        ],
        [
         "19",
         "69",
         "18631.25",
         "10.8",
         "34764",
         "31636.47",
         "11",
         "4",
         "1",
         "0",
         "Sim",
         "Sim",
         "Designer",
         "Médio"
        ],
        [
         "20",
         "68",
         "17424.76",
         "11.8",
         "24478",
         "47575.71",
         "19",
         "3",
         "0",
         "0",
         "Não",
         "Sim",
         "Contador",
         "Médio"
        ],
        [
         "21",
         "31",
         "3960.08",
         "11.1",
         "6538",
         "10573.8",
         "16",
         "1",
         "0",
         "0",
         "Não",
         "Sim",
         "Designer",
         "Médio"
        ],
        [
         "22",
         "72",
         "18980.3",
         "28.1",
         "47796",
         "26426.03",
         "11",
         "1",
         "1",
         "14",
         "Não",
         "Não",
         "Médico",
         "Alto"
        ],
        [
         "23",
         "63",
         "5888.32",
         "23.8",
         "4766",
         "26543.31",
         "5",
         "0",
         "3",
         "0",
         "Não",
         "Sim",
         "Médico",
         "Baixo"
        ],
        [
         "24",
         "25",
         "6832.41",
         "25.3",
         "16560",
         "22659.15",
         "18",
         "1",
         "3",
         "0",
         "Não",
         "Sim",
         "Analista de TI",
         "Alto"
        ],
        [
         "25",
         "82",
         "18045.53",
         "29.9",
         "51099",
         "66497.83",
         "14",
         "3",
         "3",
         "0",
         "Não",
         "Não",
         "Médico",
         "Alto"
        ],
        [
         "26",
         "33",
         "10785.18",
         "10.9",
         "12132",
         "29384.6",
         "12",
         "4",
         "3",
         "0",
         "Sim",
         "Não",
         "Advogado",
         "Médio"
        ],
        [
         "27",
         "87",
         "3762.19",
         "7.1",
         "4030",
         "4293.66",
         "11",
         "1",
         "0",
         "0",
         "Sim",
         "Sim",
         "Empreendedor",
         "Médio"
        ],
        [
         "28",
         "87",
         null,
         "27.9",
         "9410",
         "21569.13",
         "7",
         "4",
         "3",
         "52",
         "Não",
         "Não",
         "Empreendedor",
         "Alto"
        ],
        [
         "29",
         "19",
         "14251.06",
         "8.7",
         "3189",
         "42131.98",
         "4",
         "4",
         "1",
         "0",
         "Sim",
         "Não",
         "Advogado",
         "Baixo"
        ],
        [
         "30",
         "27",
         null,
         "7.9",
         "7017",
         "18880.23",
         "0",
         "1",
         "0",
         "0",
         "Sim",
         "Sim",
         "Engenheiro",
         "Médio"
        ],
        [
         "31",
         "34",
         "7155.13",
         "27.4",
         "7212",
         "28045.46",
         "4",
         "5",
         "0",
         "0",
         "Sim",
         "Sim",
         "Médico",
         "Médio"
        ],
        [
         "32",
         "50",
         "9632.98",
         "0.3",
         "3855",
         "31930.01",
         "19",
         "3",
         "3",
         "0",
         "Sim",
         "Sim",
         "Enfermeiro",
         "Baixo"
        ],
        [
         "33",
         "57",
         "18311.55",
         "5.4",
         "46074",
         "26779.07",
         "17",
         "1",
         "3",
         "0",
         "Não",
         "Sim",
         "Engenheiro",
         "Alto"
        ],
        [
         "34",
         "68",
         "15896.22",
         "26.2",
         "18704",
         "67490.89",
         "13",
         "3",
         "1",
         "0",
         "Não",
         "Sim",
         "Médico",
         "Médio"
        ],
        [
         "35",
         "52",
         "14769.31",
         "12.7",
         "3403",
         "59223.54",
         "3",
         "1",
         "1",
         "59",
         "Sim",
         "Não",
         "Advogado",
         "Alto"
        ],
        [
         "36",
         "73",
         "19894.46",
         "8.6",
         "43033",
         "37403.71",
         "0",
         "2",
         "3",
         "0",
         "Não",
         "Não",
         "Contador",
         "Alto"
        ],
        [
         "37",
         "31",
         "4157.02",
         "7.1",
         "9771",
         "4768.2",
         "19",
         "2",
         "3",
         "0",
         "Sim",
         "Sim",
         "Enfermeiro",
         "Alto"
        ],
        [
         "38",
         "68",
         null,
         "8.0",
         "7495",
         "23225.63",
         "20",
         "2",
         "3",
         "22",
         "Sim",
         "Sim",
         "Analista_de_TI",
         "Médio"
        ],
        [
         "39",
         "73",
         null,
         "2.3",
         "9527",
         "9870.95",
         "15",
         "5",
         "3",
         "43",
         "Não",
         "Sim",
         "Professor",
         "Alto"
        ],
        [
         "40",
         "90",
         "11291.45",
         "17.2",
         "22544",
         "33882.27",
         "18",
         "3",
         "1",
         "0",
         "Sim",
         "Sim",
         "Advogado",
         "Médio"
        ],
        [
         "41",
         "86",
         null,
         "18.4",
         "14289",
         "10139.2",
         "11",
         "5",
         "2",
         "0",
         "Não",
         "Sim",
         "Designer",
         "Alto"
        ],
        [
         "42",
         "67",
         null,
         "5.7",
         "6352",
         "21956.84",
         "16",
         "2",
         "0",
         "0",
         "Sim",
         "Não",
         "Engenheiro",
         "Médio"
        ],
        [
         "43",
         "63",
         "5811.44",
         "4.2",
         "14976",
         "8409.71",
         "19",
         "2",
         "0",
         "0",
         "Sim",
         "Sim",
         "Médico",
         "Alto"
        ],
        [
         "44",
         "43",
         "5592.64",
         "23.5",
         "742",
         "8252.56",
         "2",
         "4",
         "3",
         "0",
         "Sim",
         "Sim",
         "Advogado",
         "Baixo"
        ],
        [
         "45",
         "53",
         "6021.01",
         "19.2",
         "6942",
         "10143.34",
         "15",
         "4",
         "1",
         "0",
         "Sim",
         "Não",
         "Engenheiro",
         "Médio"
        ],
        [
         "46",
         "82",
         "5959.46",
         "26.2",
         "17634",
         "25427.2",
         "19",
         "4",
         "1",
         "0",
         "Sim",
         "Sim",
         "Enfermeiro",
         "Alto"
        ],
        [
         "47",
         "65",
         "4949.45",
         "17.6",
         "4951",
         "22970.35",
         "8",
         "4",
         "2",
         "0",
         "Sim",
         "Sim",
         "Médico",
         "Médio"
        ],
        [
         "48",
         "39",
         "13428.35",
         "0.1",
         "13168",
         "31687.98",
         "14",
         "4",
         "1",
         "0",
         "Não",
         "Não",
         "Enfermeiro",
         "Baixo"
        ],
        [
         "49",
         "78",
         "3803.34",
         "18.7",
         "5345",
         "13367.96",
         "18",
         "5",
         "1",
         "0",
         "Não",
         "Sim",
         "Advogado",
         "Médio"
        ]
       ],
       "shape": {
        "columns": 13,
        "rows": 1000
       }
      },
      "text/html": [
       "<div>\n",
       "<style scoped>\n",
       "    .dataframe tbody tr th:only-of-type {\n",
       "        vertical-align: middle;\n",
       "    }\n",
       "\n",
       "    .dataframe tbody tr th {\n",
       "        vertical-align: top;\n",
       "    }\n",
       "\n",
       "    .dataframe thead th {\n",
       "        text-align: right;\n",
       "    }\n",
       "</style>\n",
       "<table border=\"1\" class=\"dataframe\">\n",
       "  <thead>\n",
       "    <tr style=\"text-align: right;\">\n",
       "      <th></th>\n",
       "      <th>idade</th>\n",
       "      <th>renda_mensal</th>\n",
       "      <th>tempo_emprego</th>\n",
       "      <th>dividas_total</th>\n",
       "      <th>limite_cartao</th>\n",
       "      <th>historico_credito</th>\n",
       "      <th>num_cartoes_credito</th>\n",
       "      <th>num_emprestimos</th>\n",
       "      <th>atraso_pagamento</th>\n",
       "      <th>possui_imovel</th>\n",
       "      <th>possui_veiculo</th>\n",
       "      <th>cargo_atual</th>\n",
       "      <th>risco_credito</th>\n",
       "    </tr>\n",
       "  </thead>\n",
       "  <tbody>\n",
       "    <tr>\n",
       "      <th>0</th>\n",
       "      <td>50</td>\n",
       "      <td>4145.83</td>\n",
       "      <td>1.4</td>\n",
       "      <td>5798</td>\n",
       "      <td>13957.29</td>\n",
       "      <td>1</td>\n",
       "      <td>1</td>\n",
       "      <td>1</td>\n",
       "      <td>0</td>\n",
       "      <td>Não</td>\n",
       "      <td>Não</td>\n",
       "      <td>Analista de TI</td>\n",
       "      <td>Médio</td>\n",
       "    </tr>\n",
       "    <tr>\n",
       "      <th>1</th>\n",
       "      <td>40</td>\n",
       "      <td>14080.13</td>\n",
       "      <td>0.9</td>\n",
       "      <td>39607</td>\n",
       "      <td>57549.72</td>\n",
       "      <td>1</td>\n",
       "      <td>0</td>\n",
       "      <td>2</td>\n",
       "      <td>0</td>\n",
       "      <td>Não</td>\n",
       "      <td>Não</td>\n",
       "      <td>Enfermeiro</td>\n",
       "      <td>Alto</td>\n",
       "    </tr>\n",
       "    <tr>\n",
       "      <th>2</th>\n",
       "      <td>59</td>\n",
       "      <td>7550.31</td>\n",
       "      <td>21.0</td>\n",
       "      <td>7865</td>\n",
       "      <td>20694.49</td>\n",
       "      <td>3</td>\n",
       "      <td>4</td>\n",
       "      <td>0</td>\n",
       "      <td>0</td>\n",
       "      <td>Não</td>\n",
       "      <td>Sim</td>\n",
       "      <td>Advogado</td>\n",
       "      <td>Médio</td>\n",
       "    </tr>\n",
       "    <tr>\n",
       "      <th>3</th>\n",
       "      <td>27</td>\n",
       "      <td>2390.01</td>\n",
       "      <td>5.6</td>\n",
       "      <td>1340</td>\n",
       "      <td>10593.18</td>\n",
       "      <td>17</td>\n",
       "      <td>5</td>\n",
       "      <td>3</td>\n",
       "      <td>0</td>\n",
       "      <td>Sim</td>\n",
       "      <td>Não</td>\n",
       "      <td>Analista de TI</td>\n",
       "      <td>Baixo</td>\n",
       "    </tr>\n",
       "    <tr>\n",
       "      <th>4</th>\n",
       "      <td>39</td>\n",
       "      <td>17135.27</td>\n",
       "      <td>20.3</td>\n",
       "      <td>45245</td>\n",
       "      <td>77949.94</td>\n",
       "      <td>1</td>\n",
       "      <td>3</td>\n",
       "      <td>2</td>\n",
       "      <td>0</td>\n",
       "      <td>Sim</td>\n",
       "      <td>Não</td>\n",
       "      <td>Contador</td>\n",
       "      <td>Alto</td>\n",
       "    </tr>\n",
       "    <tr>\n",
       "      <th>...</th>\n",
       "      <td>...</td>\n",
       "      <td>...</td>\n",
       "      <td>...</td>\n",
       "      <td>...</td>\n",
       "      <td>...</td>\n",
       "      <td>...</td>\n",
       "      <td>...</td>\n",
       "      <td>...</td>\n",
       "      <td>...</td>\n",
       "      <td>...</td>\n",
       "      <td>...</td>\n",
       "      <td>...</td>\n",
       "      <td>...</td>\n",
       "    </tr>\n",
       "    <tr>\n",
       "      <th>995</th>\n",
       "      <td>70</td>\n",
       "      <td>17133.71</td>\n",
       "      <td>10.4</td>\n",
       "      <td>36559</td>\n",
       "      <td>53726.07</td>\n",
       "      <td>7</td>\n",
       "      <td>3</td>\n",
       "      <td>0</td>\n",
       "      <td>0</td>\n",
       "      <td>Não</td>\n",
       "      <td>Não</td>\n",
       "      <td>Professor</td>\n",
       "      <td>Alto</td>\n",
       "    </tr>\n",
       "    <tr>\n",
       "      <th>996</th>\n",
       "      <td>82</td>\n",
       "      <td>8224.03</td>\n",
       "      <td>14.3</td>\n",
       "      <td>7642</td>\n",
       "      <td>18414.90</td>\n",
       "      <td>12</td>\n",
       "      <td>3</td>\n",
       "      <td>0</td>\n",
       "      <td>0</td>\n",
       "      <td>Sim</td>\n",
       "      <td>Não</td>\n",
       "      <td>Médico</td>\n",
       "      <td>Baixo</td>\n",
       "    </tr>\n",
       "    <tr>\n",
       "      <th>997</th>\n",
       "      <td>88</td>\n",
       "      <td>3286.20</td>\n",
       "      <td>19.1</td>\n",
       "      <td>1472</td>\n",
       "      <td>16055.81</td>\n",
       "      <td>12</td>\n",
       "      <td>0</td>\n",
       "      <td>1</td>\n",
       "      <td>0</td>\n",
       "      <td>Sim</td>\n",
       "      <td>Sim</td>\n",
       "      <td>Professor</td>\n",
       "      <td>Baixo</td>\n",
       "    </tr>\n",
       "    <tr>\n",
       "      <th>998</th>\n",
       "      <td>86</td>\n",
       "      <td>14855.40</td>\n",
       "      <td>26.6</td>\n",
       "      <td>42765</td>\n",
       "      <td>28284.90</td>\n",
       "      <td>6</td>\n",
       "      <td>3</td>\n",
       "      <td>0</td>\n",
       "      <td>0</td>\n",
       "      <td>Sim</td>\n",
       "      <td>Sim</td>\n",
       "      <td>Contador</td>\n",
       "      <td>Alto</td>\n",
       "    </tr>\n",
       "    <tr>\n",
       "      <th>999</th>\n",
       "      <td>83</td>\n",
       "      <td>18825.51</td>\n",
       "      <td>15.5</td>\n",
       "      <td>56270</td>\n",
       "      <td>30848.39</td>\n",
       "      <td>18</td>\n",
       "      <td>0</td>\n",
       "      <td>3</td>\n",
       "      <td>0</td>\n",
       "      <td>Sim</td>\n",
       "      <td>Sim</td>\n",
       "      <td>Enfermeiro</td>\n",
       "      <td>Alto</td>\n",
       "    </tr>\n",
       "  </tbody>\n",
       "</table>\n",
       "<p>1000 rows × 13 columns</p>\n",
       "</div>"
      ],
      "text/plain": [
       "     idade  renda_mensal  tempo_emprego  dividas_total  limite_cartao  \\\n",
       "0       50       4145.83            1.4           5798       13957.29   \n",
       "1       40      14080.13            0.9          39607       57549.72   \n",
       "2       59       7550.31           21.0           7865       20694.49   \n",
       "3       27       2390.01            5.6           1340       10593.18   \n",
       "4       39      17135.27           20.3          45245       77949.94   \n",
       "..     ...           ...            ...            ...            ...   \n",
       "995     70      17133.71           10.4          36559       53726.07   \n",
       "996     82       8224.03           14.3           7642       18414.90   \n",
       "997     88       3286.20           19.1           1472       16055.81   \n",
       "998     86      14855.40           26.6          42765       28284.90   \n",
       "999     83      18825.51           15.5          56270       30848.39   \n",
       "\n",
       "     historico_credito  num_cartoes_credito  num_emprestimos  \\\n",
       "0                    1                    1                1   \n",
       "1                    1                    0                2   \n",
       "2                    3                    4                0   \n",
       "3                   17                    5                3   \n",
       "4                    1                    3                2   \n",
       "..                 ...                  ...              ...   \n",
       "995                  7                    3                0   \n",
       "996                 12                    3                0   \n",
       "997                 12                    0                1   \n",
       "998                  6                    3                0   \n",
       "999                 18                    0                3   \n",
       "\n",
       "     atraso_pagamento possui_imovel possui_veiculo     cargo_atual  \\\n",
       "0                   0           Não            Não  Analista de TI   \n",
       "1                   0           Não            Não      Enfermeiro   \n",
       "2                   0           Não            Sim        Advogado   \n",
       "3                   0           Sim            Não  Analista de TI   \n",
       "4                   0           Sim            Não        Contador   \n",
       "..                ...           ...            ...             ...   \n",
       "995                 0           Não            Não       Professor   \n",
       "996                 0           Sim            Não          Médico   \n",
       "997                 0           Sim            Sim       Professor   \n",
       "998                 0           Sim            Sim        Contador   \n",
       "999                 0           Sim            Sim      Enfermeiro   \n",
       "\n",
       "    risco_credito  \n",
       "0           Médio  \n",
       "1            Alto  \n",
       "2           Médio  \n",
       "3           Baixo  \n",
       "4            Alto  \n",
       "..            ...  \n",
       "995          Alto  \n",
       "996         Baixo  \n",
       "997         Baixo  \n",
       "998          Alto  \n",
       "999          Alto  \n",
       "\n",
       "[1000 rows x 13 columns]"
      ]
     },
     "execution_count": 27,
     "metadata": {},
     "output_type": "execute_result"
    }
   ],
   "source": [
    "df"
   ]
  },
  {
   "cell_type": "markdown",
   "id": "e0b506b9",
   "metadata": {},
   "source": [
    "### 3. Análise de Dados"
   ]
  },
  {
   "cell_type": "code",
   "execution_count": 28,
   "id": "d4b319c6",
   "metadata": {},
   "outputs": [
    {
     "name": "stdout",
     "output_type": "stream",
     "text": [
      "<class 'pandas.core.frame.DataFrame'>\n",
      "RangeIndex: 1000 entries, 0 to 999\n",
      "Data columns (total 13 columns):\n",
      " #   Column               Non-Null Count  Dtype  \n",
      "---  ------               --------------  -----  \n",
      " 0   idade                1000 non-null   int64  \n",
      " 1   renda_mensal         951 non-null    float64\n",
      " 2   tempo_emprego        1000 non-null   float64\n",
      " 3   dividas_total        1000 non-null   int64  \n",
      " 4   limite_cartao        1000 non-null   float64\n",
      " 5   historico_credito    1000 non-null   int64  \n",
      " 6   num_cartoes_credito  1000 non-null   int64  \n",
      " 7   num_emprestimos      1000 non-null   int64  \n",
      " 8   atraso_pagamento     1000 non-null   int64  \n",
      " 9   possui_imovel        1000 non-null   object \n",
      " 10  possui_veiculo       1000 non-null   object \n",
      " 11  cargo_atual          1000 non-null   object \n",
      " 12  risco_credito        1000 non-null   object \n",
      "dtypes: float64(3), int64(6), object(4)\n",
      "memory usage: 101.7+ KB\n"
     ]
    }
   ],
   "source": [
    "df.info()"
   ]
  },
  {
   "cell_type": "code",
   "execution_count": 32,
   "id": "75fbd388",
   "metadata": {},
   "outputs": [
    {
     "data": {
      "application/vnd.microsoft.datawrangler.viewer.v0+json": {
       "columns": [
        {
         "name": "cargo_atual",
         "rawType": "object",
         "type": "string"
        },
        {
         "name": "0",
         "rawType": "int64",
         "type": "integer"
        }
       ],
       "ref": "d986b602-2cf6-46a3-bc71-e40a8446dbf4",
       "rows": [
        [
         "Advogado",
         "110"
        ],
        [
         "Analista TI",
         "4"
        ],
        [
         "Analista de TI",
         "112"
        ],
        [
         "Analista_de_TI",
         "7"
        ],
        [
         "Contador",
         "109"
        ],
        [
         "Designer",
         "109"
        ],
        [
         "Empreendedor",
         "116"
        ],
        [
         "Enfermeiro",
         "117"
        ],
        [
         "Eng.",
         "2"
        ],
        [
         "Engenheiro",
         "97"
        ],
        [
         "Médico",
         "107"
        ],
        [
         "Prof",
         "1"
        ],
        [
         "Prof.",
         "2"
        ],
        [
         "Professor",
         "107"
        ]
       ],
       "shape": {
        "columns": 1,
        "rows": 14
       }
      },
      "text/plain": [
       "cargo_atual\n",
       "Advogado          110\n",
       "Analista TI         4\n",
       "Analista de TI    112\n",
       "Analista_de_TI      7\n",
       "Contador          109\n",
       "Designer          109\n",
       "Empreendedor      116\n",
       "Enfermeiro        117\n",
       "Eng.                2\n",
       "Engenheiro         97\n",
       "Médico            107\n",
       "Prof                1\n",
       "Prof.               2\n",
       "Professor         107\n",
       "dtype: int64"
      ]
     },
     "execution_count": 32,
     "metadata": {},
     "output_type": "execute_result"
    }
   ],
   "source": [
    "df.groupby(\"cargo_atual\").size()"
   ]
  },
  {
   "cell_type": "code",
   "execution_count": 29,
   "id": "c3910941",
   "metadata": {},
   "outputs": [
    {
     "data": {
      "application/vnd.microsoft.datawrangler.viewer.v0+json": {
       "columns": [
        {
         "name": "risco_credito",
         "rawType": "object",
         "type": "string"
        },
        {
         "name": "0",
         "rawType": "int64",
         "type": "integer"
        }
       ],
       "ref": "96fa6128-ef34-43d6-8fa2-a3c46bc51c0b",
       "rows": [
        [
         "Alto",
         "408"
        ],
        [
         "Baixo",
         "252"
        ],
        [
         "Médio",
         "340"
        ]
       ],
       "shape": {
        "columns": 1,
        "rows": 3
       }
      },
      "text/plain": [
       "risco_credito\n",
       "Alto     408\n",
       "Baixo    252\n",
       "Médio    340\n",
       "dtype: int64"
      ]
     },
     "execution_count": 29,
     "metadata": {},
     "output_type": "execute_result"
    }
   ],
   "source": [
    "df.groupby(\"risco_credito\").size()"
   ]
  },
  {
   "cell_type": "markdown",
   "id": "7f1bfa47",
   "metadata": {},
   "source": [
    "### 4. Tratamento de Dados:"
   ]
  },
  {
   "cell_type": "code",
   "execution_count": 33,
   "id": "5a0ca88d",
   "metadata": {},
   "outputs": [],
   "source": [
    "df.loc[df[\"cargo_atual\"] == \"Analista TI\", \"cargo_atual\"] = \"Analista de TI\"\n",
    "df.loc[df[\"cargo_atual\"] == \"Analista_de_TI\", \"cargo_atual\"] = \"Analista de TI\"\n",
    "df.loc[df[\"cargo_atual\"] == \"Eng\", \"cargo_atual\"] = \"Engenheiro\"\n",
    "\n",
    "df[\"renda_mensal\"] = df[\"renda_mensal\"].fillna(df[\"renda_mensal\"].mean())"
   ]
  },
  {
   "cell_type": "code",
   "execution_count": 34,
   "id": "646a23bb",
   "metadata": {},
   "outputs": [
    {
     "name": "stdout",
     "output_type": "stream",
     "text": [
      "<class 'pandas.core.frame.DataFrame'>\n",
      "RangeIndex: 1000 entries, 0 to 999\n",
      "Data columns (total 13 columns):\n",
      " #   Column               Non-Null Count  Dtype  \n",
      "---  ------               --------------  -----  \n",
      " 0   idade                1000 non-null   int64  \n",
      " 1   renda_mensal         1000 non-null   float64\n",
      " 2   tempo_emprego        1000 non-null   float64\n",
      " 3   dividas_total        1000 non-null   int64  \n",
      " 4   limite_cartao        1000 non-null   float64\n",
      " 5   historico_credito    1000 non-null   int64  \n",
      " 6   num_cartoes_credito  1000 non-null   int64  \n",
      " 7   num_emprestimos      1000 non-null   int64  \n",
      " 8   atraso_pagamento     1000 non-null   int64  \n",
      " 9   possui_imovel        1000 non-null   object \n",
      " 10  possui_veiculo       1000 non-null   object \n",
      " 11  cargo_atual          1000 non-null   object \n",
      " 12  risco_credito        1000 non-null   object \n",
      "dtypes: float64(3), int64(6), object(4)\n",
      "memory usage: 101.7+ KB\n"
     ]
    }
   ],
   "source": [
    "df.info()"
   ]
  },
  {
   "cell_type": "markdown",
   "id": "f1950ed3",
   "metadata": {},
   "source": [
    "### 5. Separar a Base de Dados entre Features e Classes:"
   ]
  },
  {
   "cell_type": "code",
   "execution_count": 35,
   "id": "ad31960a",
   "metadata": {},
   "outputs": [
    {
     "data": {
      "text/plain": [
       "(array([[50, 4145.83, 1.4, ..., 'Não', 'Não', 'Analista de TI'],\n",
       "        [40, 14080.13, 0.9, ..., 'Não', 'Não', 'Enfermeiro'],\n",
       "        [59, 7550.31, 21.0, ..., 'Não', 'Sim', 'Advogado'],\n",
       "        ...,\n",
       "        [88, 3286.2, 19.1, ..., 'Sim', 'Sim', 'Professor'],\n",
       "        [86, 14855.4, 26.6, ..., 'Sim', 'Sim', 'Contador'],\n",
       "        [83, 18825.51, 15.5, ..., 'Sim', 'Sim', 'Enfermeiro']],\n",
       "       shape=(1000, 12), dtype=object),\n",
       " array(['Médio', 'Alto', 'Médio', 'Baixo', 'Alto', 'Alto', 'Alto', 'Baixo',\n",
       "        'Alto', 'Médio', 'Alto', 'Alto', 'Alto', 'Alto', 'Baixo', 'Alto',\n",
       "        'Baixo', 'Baixo', 'Alto', 'Médio', 'Médio', 'Médio', 'Alto',\n",
       "        'Baixo', 'Alto', 'Alto', 'Médio', 'Médio', 'Alto', 'Baixo',\n",
       "        'Médio', 'Médio', 'Baixo', 'Alto', 'Médio', 'Alto', 'Alto', 'Alto',\n",
       "        'Médio', 'Alto', 'Médio', 'Alto', 'Médio', 'Alto', 'Baixo',\n",
       "        'Médio', 'Alto', 'Médio', 'Baixo', 'Médio', 'Baixo', 'Alto',\n",
       "        'Médio', 'Médio', 'Alto', 'Alto', 'Alto', 'Médio', 'Alto', 'Baixo',\n",
       "        'Alto', 'Alto', 'Alto', 'Médio', 'Médio', 'Alto', 'Alto', 'Alto',\n",
       "        'Alto', 'Médio', 'Alto', 'Alto', 'Médio', 'Alto', 'Alto', 'Baixo',\n",
       "        'Médio', 'Baixo', 'Médio', 'Baixo', 'Baixo', 'Médio', 'Médio',\n",
       "        'Alto', 'Médio', 'Médio', 'Baixo', 'Alto', 'Médio', 'Baixo',\n",
       "        'Médio', 'Médio', 'Médio', 'Alto', 'Baixo', 'Médio', 'Médio',\n",
       "        'Alto', 'Médio', 'Médio', 'Alto', 'Médio', 'Alto', 'Alto', 'Médio',\n",
       "        'Médio', 'Baixo', 'Médio', 'Baixo', 'Alto', 'Alto', 'Baixo',\n",
       "        'Alto', 'Baixo', 'Baixo', 'Alto', 'Médio', 'Alto', 'Médio',\n",
       "        'Baixo', 'Médio', 'Médio', 'Baixo', 'Alto', 'Alto', 'Baixo',\n",
       "        'Médio', 'Médio', 'Alto', 'Baixo', 'Alto', 'Médio', 'Alto', 'Alto',\n",
       "        'Médio', 'Médio', 'Baixo', 'Alto', 'Alto', 'Médio', 'Alto', 'Alto',\n",
       "        'Alto', 'Médio', 'Baixo', 'Médio', 'Alto', 'Baixo', 'Médio',\n",
       "        'Médio', 'Médio', 'Alto', 'Médio', 'Baixo', 'Médio', 'Médio',\n",
       "        'Médio', 'Baixo', 'Alto', 'Alto', 'Médio', 'Alto', 'Baixo', 'Alto',\n",
       "        'Alto', 'Baixo', 'Médio', 'Médio', 'Baixo', 'Alto', 'Médio',\n",
       "        'Alto', 'Alto', 'Alto', 'Alto', 'Médio', 'Alto', 'Baixo', 'Baixo',\n",
       "        'Alto', 'Baixo', 'Baixo', 'Médio', 'Alto', 'Alto', 'Baixo',\n",
       "        'Baixo', 'Baixo', 'Baixo', 'Médio', 'Baixo', 'Alto', 'Médio',\n",
       "        'Baixo', 'Alto', 'Alto', 'Médio', 'Alto', 'Médio', 'Alto', 'Baixo',\n",
       "        'Baixo', 'Médio', 'Alto', 'Baixo', 'Alto', 'Alto', 'Alto', 'Médio',\n",
       "        'Médio', 'Alto', 'Alto', 'Médio', 'Alto', 'Médio', 'Alto', 'Baixo',\n",
       "        'Médio', 'Médio', 'Alto', 'Alto', 'Alto', 'Alto', 'Alto', 'Baixo',\n",
       "        'Alto', 'Médio', 'Médio', 'Alto', 'Baixo', 'Alto', 'Baixo', 'Alto',\n",
       "        'Baixo', 'Médio', 'Alto', 'Baixo', 'Baixo', 'Médio', 'Baixo',\n",
       "        'Baixo', 'Médio', 'Baixo', 'Médio', 'Alto', 'Alto', 'Médio',\n",
       "        'Médio', 'Baixo', 'Médio', 'Baixo', 'Baixo', 'Médio', 'Médio',\n",
       "        'Baixo', 'Baixo', 'Baixo', 'Alto', 'Alto', 'Alto', 'Alto', 'Alto',\n",
       "        'Médio', 'Alto', 'Médio', 'Alto', 'Alto', 'Médio', 'Alto', 'Médio',\n",
       "        'Médio', 'Alto', 'Médio', 'Baixo', 'Alto', 'Médio', 'Alto', 'Alto',\n",
       "        'Alto', 'Médio', 'Baixo', 'Alto', 'Alto', 'Baixo', 'Médio',\n",
       "        'Médio', 'Médio', 'Baixo', 'Médio', 'Baixo', 'Médio', 'Alto',\n",
       "        'Baixo', 'Baixo', 'Alto', 'Médio', 'Alto', 'Alto', 'Alto', 'Médio',\n",
       "        'Alto', 'Médio', 'Médio', 'Médio', 'Baixo', 'Alto', 'Baixo',\n",
       "        'Médio', 'Alto', 'Alto', 'Médio', 'Médio', 'Baixo', 'Alto',\n",
       "        'Médio', 'Médio', 'Baixo', 'Alto', 'Médio', 'Alto', 'Alto', 'Alto',\n",
       "        'Médio', 'Baixo', 'Alto', 'Baixo', 'Médio', 'Médio', 'Médio',\n",
       "        'Alto', 'Baixo', 'Alto', 'Baixo', 'Baixo', 'Médio', 'Médio',\n",
       "        'Médio', 'Médio', 'Médio', 'Médio', 'Alto', 'Médio', 'Baixo',\n",
       "        'Baixo', 'Alto', 'Médio', 'Alto', 'Alto', 'Baixo', 'Alto', 'Alto',\n",
       "        'Alto', 'Baixo', 'Alto', 'Alto', 'Médio', 'Médio', 'Baixo',\n",
       "        'Médio', 'Alto', 'Alto', 'Alto', 'Alto', 'Alto', 'Alto', 'Médio',\n",
       "        'Médio', 'Médio', 'Médio', 'Médio', 'Baixo', 'Alto', 'Médio',\n",
       "        'Médio', 'Alto', 'Médio', 'Médio', 'Médio', 'Alto', 'Médio',\n",
       "        'Alto', 'Alto', 'Alto', 'Alto', 'Médio', 'Médio', 'Alto', 'Baixo',\n",
       "        'Alto', 'Alto', 'Médio', 'Baixo', 'Alto', 'Alto', 'Alto', 'Baixo',\n",
       "        'Alto', 'Alto', 'Baixo', 'Médio', 'Médio', 'Médio', 'Baixo',\n",
       "        'Médio', 'Alto', 'Baixo', 'Médio', 'Baixo', 'Alto', 'Baixo',\n",
       "        'Baixo', 'Médio', 'Médio', 'Alto', 'Médio', 'Baixo', 'Baixo',\n",
       "        'Médio', 'Alto', 'Baixo', 'Baixo', 'Baixo', 'Médio', 'Médio',\n",
       "        'Baixo', 'Médio', 'Alto', 'Médio', 'Baixo', 'Alto', 'Alto', 'Alto',\n",
       "        'Médio', 'Alto', 'Alto', 'Alto', 'Alto', 'Alto', 'Baixo', 'Baixo',\n",
       "        'Médio', 'Médio', 'Médio', 'Alto', 'Médio', 'Alto', 'Baixo',\n",
       "        'Médio', 'Alto', 'Médio', 'Alto', 'Alto', 'Alto', 'Médio', 'Médio',\n",
       "        'Médio', 'Alto', 'Médio', 'Baixo', 'Baixo', 'Médio', 'Médio',\n",
       "        'Médio', 'Médio', 'Alto', 'Médio', 'Alto', 'Médio', 'Baixo',\n",
       "        'Médio', 'Baixo', 'Baixo', 'Alto', 'Baixo', 'Baixo', 'Baixo',\n",
       "        'Médio', 'Alto', 'Baixo', 'Baixo', 'Alto', 'Médio', 'Baixo',\n",
       "        'Médio', 'Alto', 'Médio', 'Médio', 'Baixo', 'Alto', 'Médio',\n",
       "        'Médio', 'Baixo', 'Alto', 'Alto', 'Alto', 'Médio', 'Alto', 'Alto',\n",
       "        'Médio', 'Médio', 'Médio', 'Médio', 'Médio', 'Alto', 'Médio',\n",
       "        'Médio', 'Baixo', 'Baixo', 'Alto', 'Médio', 'Alto', 'Baixo',\n",
       "        'Alto', 'Alto', 'Alto', 'Baixo', 'Médio', 'Médio', 'Médio',\n",
       "        'Médio', 'Alto', 'Alto', 'Baixo', 'Alto', 'Alto', 'Baixo', 'Médio',\n",
       "        'Alto', 'Baixo', 'Alto', 'Baixo', 'Baixo', 'Alto', 'Alto', 'Baixo',\n",
       "        'Baixo', 'Alto', 'Alto', 'Alto', 'Alto', 'Alto', 'Médio', 'Baixo',\n",
       "        'Baixo', 'Baixo', 'Baixo', 'Alto', 'Alto', 'Médio', 'Médio',\n",
       "        'Baixo', 'Alto', 'Alto', 'Alto', 'Baixo', 'Médio', 'Alto', 'Baixo',\n",
       "        'Alto', 'Alto', 'Médio', 'Baixo', 'Alto', 'Alto', 'Alto', 'Médio',\n",
       "        'Médio', 'Médio', 'Baixo', 'Alto', 'Alto', 'Médio', 'Alto',\n",
       "        'Médio', 'Alto', 'Alto', 'Médio', 'Alto', 'Alto', 'Alto', 'Alto',\n",
       "        'Baixo', 'Alto', 'Alto', 'Alto', 'Baixo', 'Médio', 'Médio', 'Alto',\n",
       "        'Baixo', 'Médio', 'Médio', 'Baixo', 'Médio', 'Médio', 'Alto',\n",
       "        'Médio', 'Alto', 'Baixo', 'Médio', 'Alto', 'Médio', 'Médio',\n",
       "        'Alto', 'Alto', 'Médio', 'Médio', 'Alto', 'Baixo', 'Médio', 'Alto',\n",
       "        'Médio', 'Médio', 'Alto', 'Alto', 'Baixo', 'Médio', 'Médio',\n",
       "        'Alto', 'Alto', 'Médio', 'Baixo', 'Médio', 'Baixo', 'Médio',\n",
       "        'Alto', 'Médio', 'Baixo', 'Médio', 'Médio', 'Baixo', 'Baixo',\n",
       "        'Médio', 'Médio', 'Alto', 'Médio', 'Baixo', 'Baixo', 'Médio',\n",
       "        'Alto', 'Alto', 'Médio', 'Baixo', 'Baixo', 'Alto', 'Alto', 'Alto',\n",
       "        'Médio', 'Baixo', 'Alto', 'Médio', 'Alto', 'Alto', 'Médio',\n",
       "        'Baixo', 'Alto', 'Baixo', 'Alto', 'Médio', 'Alto', 'Alto', 'Alto',\n",
       "        'Médio', 'Médio', 'Alto', 'Médio', 'Médio', 'Médio', 'Baixo',\n",
       "        'Alto', 'Alto', 'Médio', 'Baixo', 'Médio', 'Alto', 'Médio', 'Alto',\n",
       "        'Alto', 'Médio', 'Baixo', 'Baixo', 'Médio', 'Baixo', 'Alto',\n",
       "        'Alto', 'Alto', 'Baixo', 'Alto', 'Baixo', 'Baixo', 'Baixo',\n",
       "        'Médio', 'Alto', 'Alto', 'Alto', 'Médio', 'Médio', 'Alto', 'Alto',\n",
       "        'Médio', 'Médio', 'Baixo', 'Alto', 'Médio', 'Baixo', 'Alto',\n",
       "        'Médio', 'Alto', 'Alto', 'Alto', 'Alto', 'Alto', 'Alto', 'Alto',\n",
       "        'Médio', 'Médio', 'Baixo', 'Alto', 'Médio', 'Baixo', 'Alto',\n",
       "        'Alto', 'Médio', 'Baixo', 'Baixo', 'Baixo', 'Baixo', 'Baixo',\n",
       "        'Alto', 'Baixo', 'Baixo', 'Alto', 'Baixo', 'Médio', 'Baixo',\n",
       "        'Alto', 'Médio', 'Alto', 'Alto', 'Médio', 'Médio', 'Alto', 'Alto',\n",
       "        'Baixo', 'Alto', 'Alto', 'Baixo', 'Baixo', 'Médio', 'Médio',\n",
       "        'Baixo', 'Alto', 'Alto', 'Alto', 'Baixo', 'Médio', 'Baixo', 'Alto',\n",
       "        'Baixo', 'Baixo', 'Médio', 'Alto', 'Baixo', 'Baixo', 'Médio',\n",
       "        'Baixo', 'Baixo', 'Alto', 'Médio', 'Alto', 'Alto', 'Baixo',\n",
       "        'Baixo', 'Médio', 'Baixo', 'Alto', 'Médio', 'Baixo', 'Médio',\n",
       "        'Baixo', 'Baixo', 'Baixo', 'Alto', 'Médio', 'Médio', 'Alto',\n",
       "        'Baixo', 'Alto', 'Médio', 'Médio', 'Alto', 'Alto', 'Alto', 'Baixo',\n",
       "        'Alto', 'Médio', 'Alto', 'Alto', 'Baixo', 'Médio', 'Médio',\n",
       "        'Médio', 'Alto', 'Alto', 'Baixo', 'Alto', 'Médio', 'Baixo',\n",
       "        'Médio', 'Alto', 'Baixo', 'Alto', 'Médio', 'Alto', 'Baixo',\n",
       "        'Baixo', 'Alto', 'Baixo', 'Médio', 'Alto', 'Alto', 'Baixo',\n",
       "        'Médio', 'Médio', 'Alto', 'Baixo', 'Médio', 'Médio', 'Alto',\n",
       "        'Alto', 'Médio', 'Baixo', 'Médio', 'Médio', 'Baixo', 'Baixo',\n",
       "        'Baixo', 'Alto', 'Médio', 'Médio', 'Baixo', 'Alto', 'Baixo',\n",
       "        'Baixo', 'Alto', 'Alto', 'Alto', 'Alto', 'Baixo', 'Baixo', 'Médio',\n",
       "        'Médio', 'Baixo', 'Baixo', 'Médio', 'Médio', 'Alto', 'Médio',\n",
       "        'Baixo', 'Médio', 'Médio', 'Alto', 'Alto', 'Médio', 'Baixo',\n",
       "        'Alto', 'Alto', 'Médio', 'Alto', 'Médio', 'Médio', 'Alto', 'Alto',\n",
       "        'Alto', 'Alto', 'Alto', 'Baixo', 'Médio', 'Alto', 'Médio', 'Médio',\n",
       "        'Alto', 'Alto', 'Alto', 'Baixo', 'Médio', 'Alto', 'Médio', 'Alto',\n",
       "        'Alto', 'Alto', 'Alto', 'Baixo', 'Baixo', 'Baixo', 'Alto', 'Alto',\n",
       "        'Alto', 'Baixo', 'Baixo', 'Médio', 'Médio', 'Médio', 'Alto',\n",
       "        'Baixo', 'Alto', 'Alto', 'Médio', 'Alto', 'Médio', 'Alto', 'Alto',\n",
       "        'Médio', 'Alto', 'Baixo', 'Alto', 'Alto', 'Médio', 'Alto', 'Baixo',\n",
       "        'Médio', 'Alto', 'Alto', 'Baixo', 'Médio', 'Médio', 'Alto',\n",
       "        'Médio', 'Alto', 'Médio', 'Alto', 'Médio', 'Médio', 'Médio',\n",
       "        'Alto', 'Alto', 'Alto', 'Alto', 'Alto', 'Médio', 'Médio', 'Alto',\n",
       "        'Médio', 'Baixo', 'Alto', 'Alto', 'Alto', 'Médio', 'Médio', 'Alto',\n",
       "        'Alto', 'Baixo', 'Médio', 'Alto', 'Baixo', 'Baixo', 'Alto',\n",
       "        'Baixo', 'Médio', 'Baixo', 'Médio', 'Alto', 'Baixo', 'Alto',\n",
       "        'Alto', 'Alto', 'Alto', 'Baixo', 'Médio', 'Baixo', 'Baixo', 'Alto',\n",
       "        'Médio', 'Baixo', 'Alto', 'Baixo', 'Alto', 'Alto', 'Alto', 'Baixo',\n",
       "        'Alto', 'Médio', 'Médio', 'Médio', 'Médio', 'Alto', 'Médio',\n",
       "        'Alto', 'Médio', 'Médio', 'Alto', 'Baixo', 'Baixo', 'Baixo',\n",
       "        'Alto', 'Alto', 'Baixo', 'Baixo', 'Alto', 'Alto'], dtype=object))"
      ]
     },
     "execution_count": 35,
     "metadata": {},
     "output_type": "execute_result"
    }
   ],
   "source": [
    "x_data = df.iloc[:, 0:12].values\n",
    "y_data = df.iloc[:, 12].values\n",
    "\n",
    "x_data, y_data"
   ]
  },
  {
   "cell_type": "markdown",
   "id": "0baf995f",
   "metadata": {},
   "source": [
    "#### 5.1 Segmentar colunas númericas e objetos"
   ]
  },
  {
   "cell_type": "code",
   "execution_count": 36,
   "id": "8f082b3e",
   "metadata": {},
   "outputs": [
    {
     "data": {
      "text/plain": [
       "([0, 1, 2, 3, 4, 5, 6, 7, 8], [9, 10, 11])"
      ]
     },
     "execution_count": 36,
     "metadata": {},
     "output_type": "execute_result"
    }
   ],
   "source": [
    "colunas_numericas = [index for index in range(x_data.shape[1]) if type(x_data[0][index]) == int or type(x_data[0][index]) == float]\n",
    "colunas_objetos = [index for index in range(x_data.shape[1]) if type(x_data[0][index]) ==  str or type(x_data[0][index]) == np.str_] \n",
    "\n",
    "colunas_numericas, colunas_objetos"
   ]
  },
  {
   "cell_type": "markdown",
   "id": "db234e2b",
   "metadata": {},
   "source": [
    "### 6. Aplicando Pré-processamento"
   ]
  },
  {
   "cell_type": "code",
   "execution_count": 37,
   "id": "cb3dd0e4",
   "metadata": {},
   "outputs": [
    {
     "data": {
      "text/plain": [
       "array([[-1.0, -0.9860966422066364, -1.034963584184841, ..., 1, 1, 0],\n",
       "       [-1.0, -0.9860966422066364, 0.15807801141728128, ..., 0, 2, 0],\n",
       "       [-1.0, 1.0140993866100703, -1.3332239830853716, ..., 4, 0, 0],\n",
       "       ...,\n",
       "       [1.0, 1.0140993866100703, 1.9476404048204647, ..., 0, 1, 0],\n",
       "       [1.0, 1.0140993866100703, -0.7367031852843104, ..., 3, 0, 0],\n",
       "       [1.0, 1.0140993866100703, 0.15807801141728128, ..., 0, 3, 0]],\n",
       "      shape=(1000, 12), dtype=object)"
      ]
     },
     "execution_count": 37,
     "metadata": {},
     "output_type": "execute_result"
    }
   ],
   "source": [
    "encoder_cat = ColumnTransformer(transformers=[('OneHot', OrdinalEncoder(), colunas_objetos)], remainder='passthrough')\n",
    "\n",
    "scaler = ColumnTransformer(transformers=[('Scaler', StandardScaler(), colunas_numericas)], remainder='passthrough')\n",
    "\n",
    "preprocessor = Pipeline(steps=[('encoder', encoder_cat),\n",
    "                                ('scaler', scaler)])\n",
    "\n",
    "x_data = preprocessor.fit_transform(x_data)\n",
    "\n",
    "x_data"
   ]
  },
  {
   "cell_type": "markdown",
   "id": "a4266fdb",
   "metadata": {},
   "source": [
    "### 7. Dividindo a Base de Dados entre treino e teste"
   ]
  },
  {
   "cell_type": "code",
   "execution_count": 38,
   "id": "1eb34e3b",
   "metadata": {},
   "outputs": [],
   "source": [
    "x_train, x_test, y_train, y_test = train_test_split(x_data, y_data, test_size=0.3)"
   ]
  },
  {
   "cell_type": "markdown",
   "id": "3874e6b7",
   "metadata": {},
   "source": [
    "### 8. Treinando os Modelos"
   ]
  },
  {
   "cell_type": "markdown",
   "id": "e5beca06",
   "metadata": {},
   "source": [
    "#### 8.1 Regressão Logística"
   ]
  },
  {
   "cell_type": "code",
   "execution_count": null,
   "id": "48b207be",
   "metadata": {},
   "outputs": [],
   "source": [
    "modelLogistic = LogisticRegressionCV(solver=\"liblinear\")\n",
    "modelLogistic.fit(x_train, y_train)\n",
    "y_pred = modelLogistic.predict(x_test)"
   ]
  },
  {
   "cell_type": "code",
   "execution_count": 42,
   "id": "da33cd20",
   "metadata": {},
   "outputs": [
    {
     "name": "stdout",
     "output_type": "stream",
     "text": [
      "              precision    recall  f1-score   support\n",
      "\n",
      "        Alto       0.87      0.93      0.90       121\n",
      "       Baixo       0.88      0.90      0.89        67\n",
      "       Médio       0.84      0.78      0.81       112\n",
      "\n",
      "    accuracy                           0.86       300\n",
      "   macro avg       0.87      0.87      0.86       300\n",
      "weighted avg       0.86      0.86      0.86       300\n",
      "\n"
     ]
    }
   ],
   "source": [
    "print(classification_report(y_test, y_pred))"
   ]
  },
  {
   "cell_type": "markdown",
   "id": "ef096c45",
   "metadata": {},
   "source": [
    "#### 8.2 SVM (Support Vector Machines)"
   ]
  },
  {
   "cell_type": "code",
   "execution_count": 51,
   "id": "a2ec09a6",
   "metadata": {},
   "outputs": [],
   "source": [
    "modelSVC = SVC()\n",
    "modelSVC.fit(x_train, y_train)\n",
    "y_pred = modelSVC.predict(x_test)"
   ]
  },
  {
   "cell_type": "code",
   "execution_count": 52,
   "id": "5188ed14",
   "metadata": {},
   "outputs": [
    {
     "name": "stdout",
     "output_type": "stream",
     "text": [
      "              precision    recall  f1-score   support\n",
      "\n",
      "        Alto       0.87      0.67      0.76       121\n",
      "       Baixo       0.65      0.76      0.70        67\n",
      "       Médio       0.60      0.69      0.64       112\n",
      "\n",
      "    accuracy                           0.70       300\n",
      "   macro avg       0.71      0.71      0.70       300\n",
      "weighted avg       0.72      0.70      0.70       300\n",
      "\n"
     ]
    }
   ],
   "source": [
    "print(classification_report(y_test, y_pred))"
   ]
  },
  {
   "cell_type": "markdown",
   "id": "dfbf42b1",
   "metadata": {},
   "source": [
    "#### 8.3 Random Forest Classifier"
   ]
  },
  {
   "cell_type": "code",
   "execution_count": 45,
   "id": "f9f27a2a",
   "metadata": {},
   "outputs": [],
   "source": [
    "modelRFC = RandomForestClassifier()\n",
    "modelRFC.fit(x_train, y_train)\n",
    "y_pred = modelRFC.predict(x_test)"
   ]
  },
  {
   "cell_type": "code",
   "execution_count": 46,
   "id": "4ad3609f",
   "metadata": {},
   "outputs": [
    {
     "name": "stdout",
     "output_type": "stream",
     "text": [
      "              precision    recall  f1-score   support\n",
      "\n",
      "        Alto       0.84      0.90      0.87       121\n",
      "       Baixo       0.86      0.90      0.88        67\n",
      "       Médio       0.81      0.73      0.77       112\n",
      "\n",
      "    accuracy                           0.84       300\n",
      "   macro avg       0.84      0.84      0.84       300\n",
      "weighted avg       0.84      0.84      0.83       300\n",
      "\n"
     ]
    }
   ],
   "source": [
    "print(classification_report(y_test, y_pred))"
   ]
  },
  {
   "cell_type": "markdown",
   "id": "d11ceaba",
   "metadata": {},
   "source": [
    "#### 8.4 Gradient Boosting Classifier"
   ]
  },
  {
   "cell_type": "code",
   "execution_count": 47,
   "id": "47850ef9",
   "metadata": {},
   "outputs": [],
   "source": [
    "modelGBC = GradientBoostingClassifier()\n",
    "modelGBC.fit(x_train, y_train)\n",
    "y_pred = modelGBC.predict(x_test)"
   ]
  },
  {
   "cell_type": "code",
   "execution_count": 48,
   "id": "e46da37f",
   "metadata": {},
   "outputs": [
    {
     "name": "stdout",
     "output_type": "stream",
     "text": [
      "              precision    recall  f1-score   support\n",
      "\n",
      "        Alto       0.95      0.88      0.91       121\n",
      "       Baixo       0.88      0.97      0.92        67\n",
      "       Médio       0.86      0.87      0.86       112\n",
      "\n",
      "    accuracy                           0.90       300\n",
      "   macro avg       0.89      0.91      0.90       300\n",
      "weighted avg       0.90      0.90      0.90       300\n",
      "\n"
     ]
    }
   ],
   "source": [
    "print(classification_report(y_test, y_pred))"
   ]
  },
  {
   "cell_type": "markdown",
   "id": "4ba06b9d",
   "metadata": {},
   "source": [
    "#### 8.5 KNeighborsClassifier"
   ]
  },
  {
   "cell_type": "code",
   "execution_count": 49,
   "id": "dfad986d",
   "metadata": {},
   "outputs": [],
   "source": [
    "modelKNN = KNeighborsClassifier()\n",
    "modelKNN.fit(x_train, y_train)\n",
    "y_pred = modelKNN.predict(x_test)"
   ]
  },
  {
   "cell_type": "code",
   "execution_count": 50,
   "id": "d01339ab",
   "metadata": {},
   "outputs": [
    {
     "name": "stdout",
     "output_type": "stream",
     "text": [
      "              precision    recall  f1-score   support\n",
      "\n",
      "        Alto       0.57      0.71      0.63       121\n",
      "       Baixo       0.47      0.52      0.50        67\n",
      "       Médio       0.47      0.32      0.38       112\n",
      "\n",
      "    accuracy                           0.52       300\n",
      "   macro avg       0.51      0.52      0.50       300\n",
      "weighted avg       0.51      0.52      0.51       300\n",
      "\n"
     ]
    }
   ],
   "source": [
    "print(classification_report(y_test, y_pred))"
   ]
  },
  {
   "cell_type": "markdown",
   "id": "708e4cb7",
   "metadata": {},
   "source": [
    "### 9. Importando o Melhor Modelo"
   ]
  },
  {
   "cell_type": "code",
   "execution_count": null,
   "id": "c3cdd9f5",
   "metadata": {},
   "outputs": [],
   "source": [
    "import joblib \n",
    "\n",
    "joblib.dump(modelGBC, \"modelRFC.pkl\")\n",
    "joblib.dump(preprocessor, \"preprocessor.pkl\")"
   ]
  }
 ],
 "metadata": {
  "kernelspec": {
   "display_name": "venv (3.12.7)",
   "language": "python",
   "name": "python3"
  },
  "language_info": {
   "codemirror_mode": {
    "name": "ipython",
    "version": 3
   },
   "file_extension": ".py",
   "mimetype": "text/x-python",
   "name": "python",
   "nbconvert_exporter": "python",
   "pygments_lexer": "ipython3",
   "version": "3.12.7"
  }
 },
 "nbformat": 4,
 "nbformat_minor": 5
}
