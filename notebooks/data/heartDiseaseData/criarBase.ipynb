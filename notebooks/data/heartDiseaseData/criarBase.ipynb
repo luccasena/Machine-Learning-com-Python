{
 "cells": [
  {
   "cell_type": "markdown",
   "id": "0fbc978b",
   "metadata": {},
   "source": [
    "# Criar Database:"
   ]
  },
  {
   "cell_type": "markdown",
   "id": "f892f88b",
   "metadata": {},
   "source": [
    "### Prompt para criar base de dados:\n",
    "\n",
    "Você é um especialista na área de [área/tema, ex: saúde, finanças, marketing] que entende profundamente as principais variáveis que influenciam [problema alvo, ex: diagnóstico de diabetes, churn de clientes, classificação de fraudes].\n",
    "\n",
    "Sua tarefa é gerar uma base de dados artificial, em formato tabular (CSV), que reflita padrões realistas e inclua variáveis relevantes para a previsão de [alvo].  \n",
    "A base deve conter [número] registros e apresentar:  \n",
    "\n",
    "1. **Colunas com variáveis explicativas (features)** coerentes com o domínio.  \n",
    "2. **Coluna alvo (target)** indicando a classe a ser prevista.  \n",
    "3. **Distribuição de classes balanceada ou levemente desbalanceada** (como na vida real).  \n",
    "4. **Ruído nos dados** (valores faltantes, pequenas inconsistências ou variações) para simular cenários reais.  \n",
    "5. **Valores em formatos variados** (numéricos, categóricos e/ou textuais, conforme o problema).  \n",
    "\n",
    "Entregue o resultado como uma tabela pronta para ser exportada em CSV.  \n"
   ]
  },
  {
   "cell_type": "code",
   "execution_count": null,
   "id": "751ba8b5",
   "metadata": {},
   "outputs": [
    {
     "data": {
      "text/plain": [
       "'dataset_clinico_realista_teste.csv'"
      ]
     },
     "execution_count": 3,
     "metadata": {},
     "output_type": "execute_result"
    }
   ],
   "source": [
    "# Manipulação e Geração de Dados\n",
    "import pandas as pd\n",
    "import numpy as np\n",
    "import random\n",
    "\n",
    "n_samples = 10000\n",
    "\n",
    "# Gêneros possíveis\n",
    "genders = ['Masculino', 'Feminino']\n",
    "\n",
    "# Classes alvo possíveis\n",
    "targets = ['Diabetes Tipo 1', 'Diabetes Tipo 2', 'Pré-diabetes', 'Não diabético']\n",
    "\n",
    "# Função para gerar amostra com ruídos naturais e sem restrição por classe\n",
    "def gerar_amostra_realista():\n",
    "    idade = np.random.randint(10, 90)\n",
    "    genero = random.choice(genders)\n",
    "\n",
    "    imc = round(np.random.normal(loc=25, scale=6), 1)\n",
    "    glicemia = np.random.randint(60, 300)\n",
    "    hba1c = round(np.random.normal(loc=6.0, scale=1.2), 1)\n",
    "    insulina = round(np.random.uniform(2, 30), 1)\n",
    "    atividade = np.random.randint(0, 10)\n",
    "    historico = np.random.choice([0, 1], p=[0.7, 0.3])\n",
    "    pressao = np.random.randint(90, 180)\n",
    "    colesterol = np.random.randint(120, 280)\n",
    "    triglicerideos = np.random.randint(50, 300)\n",
    "\n",
    "    # Adicionando variabilidade na rotulagem\n",
    "    if glicemia > 250 or hba1c > 10:\n",
    "        classe = 'Diabetes Tipo 1'\n",
    "    elif hba1c >= 6.5 and glicemia > 125:\n",
    "        classe = 'Diabetes Tipo 2'\n",
    "    elif 100 <= glicemia <= 125 or (5.7 <= hba1c < 6.5):\n",
    "        classe = 'Pré-diabetes'\n",
    "    else:\n",
    "        classe = 'Não diabético'\n",
    "\n",
    "    # Introduzir um ruído de rotulagem para simular erros de diagnóstico\n",
    "    if np.random.rand() < 0.1:\n",
    "        classe = random.choice(targets)\n",
    "\n",
    "    return [\n",
    "        idade, genero, imc, glicemia, hba1c, insulina, atividade,\n",
    "        historico, pressao, colesterol, triglicerideos, classe\n",
    "    ]\n",
    "\n",
    "# Gerar base de dados\n",
    "dados = [gerar_amostra_realista() for _ in range(n_samples)]\n",
    "\n",
    "# Nome das colunas\n",
    "colunas = [\n",
    "    'idade', 'genero', 'imc', 'glicemia', 'hba1c', 'insulina',\n",
    "    'atividade_fisica', 'historico_familiar', 'pressao_arterial',\n",
    "    'colesterol_total', 'triglicerideos', 'diagnostico'\n",
    "]\n",
    "\n",
    "df = pd.DataFrame(dados, columns=colunas)\n",
    "\n",
    "# Exportar CSV\n",
    "caminho_csv = \"dataset_clinico_realista.csv\"\n",
    "df.to_csv(caminho_csv)\n",
    "\n",
    "caminho_csv\n"
   ]
  }
 ],
 "metadata": {
  "kernelspec": {
   "display_name": "venv (3.12.7)",
   "language": "python",
   "name": "python3"
  },
  "language_info": {
   "codemirror_mode": {
    "name": "ipython",
    "version": 3
   },
   "file_extension": ".py",
   "mimetype": "text/x-python",
   "name": "python",
   "nbconvert_exporter": "python",
   "pygments_lexer": "ipython3",
   "version": "3.12.7"
  }
 },
 "nbformat": 4,
 "nbformat_minor": 5
}
